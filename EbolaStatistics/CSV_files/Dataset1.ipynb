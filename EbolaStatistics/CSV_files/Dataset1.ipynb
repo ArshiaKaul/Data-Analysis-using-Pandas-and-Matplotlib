{
 "cells": [
  {
   "cell_type": "code",
   "execution_count": 531,
   "metadata": {},
   "outputs": [],
   "source": [
    "# import the pandas library\n",
    "import pandas as pd\n",
    "from matplotlib import pyplot as plt"
   ]
  },
  {
   "cell_type": "code",
   "execution_count": 532,
   "metadata": {},
   "outputs": [],
   "source": [
    "# import the database\n",
    "maindf = pd.read_csv(r\"./CSV_Files/ebola_data_db_format.csv\")"
   ]
  },
  {
   "cell_type": "code",
   "execution_count": 533,
   "metadata": {
    "scrolled": false
   },
   "outputs": [
    {
     "data": {
      "text/html": [
       "<div>\n",
       "<style scoped>\n",
       "    .dataframe tbody tr th:only-of-type {\n",
       "        vertical-align: middle;\n",
       "    }\n",
       "\n",
       "    .dataframe tbody tr th {\n",
       "        vertical-align: top;\n",
       "    }\n",
       "\n",
       "    .dataframe thead th {\n",
       "        text-align: right;\n",
       "    }\n",
       "</style>\n",
       "<table border=\"1\" class=\"dataframe\">\n",
       "  <thead>\n",
       "    <tr style=\"text-align: right;\">\n",
       "      <th></th>\n",
       "      <th>Indicator</th>\n",
       "      <th>Country</th>\n",
       "      <th>Date</th>\n",
       "      <th>value</th>\n",
       "    </tr>\n",
       "  </thead>\n",
       "  <tbody>\n",
       "    <tr>\n",
       "      <th>7334</th>\n",
       "      <td>Cumulative number of probable Ebola deaths</td>\n",
       "      <td>Spain</td>\n",
       "      <td>2015-05-11</td>\n",
       "      <td>0.0</td>\n",
       "    </tr>\n",
       "    <tr>\n",
       "      <th>6719</th>\n",
       "      <td>Cumulative number of confirmed, probable and s...</td>\n",
       "      <td>Guinea</td>\n",
       "      <td>2015-04-27</td>\n",
       "      <td>2374.0</td>\n",
       "    </tr>\n",
       "    <tr>\n",
       "      <th>7916</th>\n",
       "      <td>Cumulative number of confirmed, probable and s...</td>\n",
       "      <td>Mali</td>\n",
       "      <td>2015-05-22</td>\n",
       "      <td>8.0</td>\n",
       "    </tr>\n",
       "    <tr>\n",
       "      <th>9153</th>\n",
       "      <td>Cumulative number of suspected Ebola cases</td>\n",
       "      <td>Senegal</td>\n",
       "      <td>2015-06-17</td>\n",
       "      <td>0.0</td>\n",
       "    </tr>\n",
       "    <tr>\n",
       "      <th>15424</th>\n",
       "      <td>Cumulative number of confirmed Ebola cases</td>\n",
       "      <td>Liberia</td>\n",
       "      <td>2015-10-22</td>\n",
       "      <td>3151.0</td>\n",
       "    </tr>\n",
       "  </tbody>\n",
       "</table>\n",
       "</div>"
      ],
      "text/plain": [
       "                                               Indicator  Country        Date  \\\n",
       "7334          Cumulative number of probable Ebola deaths    Spain  2015-05-11   \n",
       "6719   Cumulative number of confirmed, probable and s...   Guinea  2015-04-27   \n",
       "7916   Cumulative number of confirmed, probable and s...     Mali  2015-05-22   \n",
       "9153          Cumulative number of suspected Ebola cases  Senegal  2015-06-17   \n",
       "15424         Cumulative number of confirmed Ebola cases  Liberia  2015-10-22   \n",
       "\n",
       "        value  \n",
       "7334      0.0  \n",
       "6719   2374.0  \n",
       "7916      8.0  \n",
       "9153      0.0  \n",
       "15424  3151.0  "
      ]
     },
     "execution_count": 533,
     "metadata": {},
     "output_type": "execute_result"
    }
   ],
   "source": [
    "# A samle of five random row from the database\n",
    "maindf.sample(n=5)"
   ]
  },
  {
   "cell_type": "code",
   "execution_count": 534,
   "metadata": {},
   "outputs": [
    {
     "data": {
      "text/plain": [
       "Indicator     object\n",
       "Country       object\n",
       "Date          object\n",
       "value        float64\n",
       "dtype: object"
      ]
     },
     "execution_count": 534,
     "metadata": {},
     "output_type": "execute_result"
    }
   ],
   "source": [
    "# Columns in dataframe and their respective datatypes\n",
    "maindf.dtypes"
   ]
  },
  {
   "cell_type": "code",
   "execution_count": 535,
   "metadata": {},
   "outputs": [],
   "source": [
    "# rename column 'value' as 'Value'\n",
    "maindf = maindf.rename(columns = { \"value\": \"Value\"})"
   ]
  },
  {
   "cell_type": "code",
   "execution_count": 536,
   "metadata": {},
   "outputs": [
    {
     "data": {
      "text/plain": [
       "(17585, 4)"
      ]
     },
     "execution_count": 536,
     "metadata": {},
     "output_type": "execute_result"
    }
   ],
   "source": [
    "# dimensions of the database\n",
    "maindf.shape"
   ]
  },
  {
   "cell_type": "code",
   "execution_count": 537,
   "metadata": {},
   "outputs": [
    {
     "name": "stdout",
     "output_type": "stream",
     "text": [
      "Indicator: 36\n",
      "Country: 12\n",
      "Date: 259\n",
      "Value: 1793\n"
     ]
    }
   ],
   "source": [
    "# number of unqiue values in each column\n",
    "for col in maindf.columns:\n",
    "    print (col + \": {}\".format(maindf[col].unique().size))"
   ]
  },
  {
   "cell_type": "code",
   "execution_count": 538,
   "metadata": {},
   "outputs": [
    {
     "name": "stdout",
     "output_type": "stream",
     "text": [
      "Indicator\n",
      "Cumulative number of confirmed, probable and suspected Ebola deaths                            2485\n",
      "Cumulative number of confirmed Ebola cases                                                     2484\n",
      "Cumulative number of confirmed, probable and suspected Ebola cases                             2477\n",
      "Cumulative number of probable Ebola cases                                                      2436\n",
      "Cumulative number of suspected Ebola cases                                                     2366\n",
      "Cumulative number of confirmed Ebola deaths                                                    1648\n",
      "Cumulative number of probable Ebola deaths                                                     1526\n",
      "Cumulative number of suspected Ebola deaths                                                    1308\n",
      "Number of confirmed Ebola cases in the last 21 days                                             190\n",
      "Number of confirmed, probable and suspected Ebola cases in the last 21 days                     190\n",
      "Number of probable Ebola cases in the last 21 days                                               52\n",
      "Proportion of confirmed, probable and suspected Ebola cases that are from the last 21 days       41\n",
      "Proportion of confirmed Ebola cases that are from the last 21 days                               40\n",
      "Proportion of probable Ebola cases that are from the last 21 days                                40\n",
      "Number of suspected Ebola cases in the last 21 days                                              39\n",
      "Proportion of suspected Ebola cases that are from the last 21 days                               39\n",
      "Case fatality rate (CFR) of confirmed, probable and suspected Ebola cases                        19\n",
      "Case fatality rate (CFR) of confirmed Ebola cases                                                19\n",
      "Case fatality rate (CFR) of suspected Ebola cases                                                18\n",
      "Case fatality rate (CFR) of probable Ebola cases                                                 18\n",
      "Number of confirmed Ebola deaths in the last 21 days                                             14\n",
      "Number of confirmed, probable and suspected Ebola deaths in the last 21 days                     14\n",
      "Proportion of confirmed, probable and suspected Ebola deaths that are from the last 21 days      13\n",
      "Number of suspected Ebola deaths in the last 21 days                                             13\n",
      "Number of probable Ebola deaths in the last 21 days                                              13\n",
      "Proportion of confirmed Ebola deaths that are from the last 21 days                              13\n",
      "Proportion of probable Ebola deaths that are from the last 21 days                               12\n",
      "Proportion of suspected Ebola deaths that are from the last 21 days                              10\n",
      "Proportion of confirmed, probable and suspected Ebola cases that are from the last 7 days         6\n",
      "Proportion of confirmed Ebola cases that are from the last 7 days                                 6\n",
      "Number of confirmed Ebola cases in the last 7 days                                                6\n",
      "Proportion of suspected Ebola cases that are from the last 7 days                                 6\n",
      "Proportion of probable Ebola cases that are from the last 7 days                                  6\n",
      "Number of confirmed, probable and suspected Ebola cases in the last 7 days                        6\n",
      "Number of probable Ebola cases in the last 7 days                                                 6\n",
      "Number of suspected Ebola cases in the last 7 days                                                6\n",
      "Name: Indicator, dtype: int64\n",
      "\n",
      "\n",
      "Country\n",
      "Sierra Leone                2303\n",
      "Nigeria                     2124\n",
      "Guinea                      2086\n",
      "Senegal                     2081\n",
      "United States of America    1932\n",
      "Spain                       1924\n",
      "Liberia                     1540\n",
      "Mali                        1234\n",
      "United Kingdom              1107\n",
      "Italy                        708\n",
      "Liberia 2                    536\n",
      "Guinea 2                      10\n",
      "Name: Country, dtype: int64\n",
      "\n",
      "\n"
     ]
    }
   ],
   "source": [
    "# unique values in each column\n",
    "for col in [\"Indicator\", \"Country\"]:\n",
    "    print (col)\n",
    "    print (\"{}\".format(maindf[col].value_counts()))\n",
    "    print (\"\\n\")"
   ]
  },
  {
   "cell_type": "markdown",
   "metadata": {},
   "source": [
    "### The 'Country' column has two countries labelled as Guinea- 'Guinea' and 'Guinea 2'\n",
    "### And also two countries labelled as Liberia- 'Liberia' and 'Liberia 2'"
   ]
  },
  {
   "cell_type": "code",
   "execution_count": 539,
   "metadata": {},
   "outputs": [
    {
     "data": {
      "text/html": [
       "<div>\n",
       "<style scoped>\n",
       "    .dataframe tbody tr th:only-of-type {\n",
       "        vertical-align: middle;\n",
       "    }\n",
       "\n",
       "    .dataframe tbody tr th {\n",
       "        vertical-align: top;\n",
       "    }\n",
       "\n",
       "    .dataframe thead th {\n",
       "        text-align: right;\n",
       "    }\n",
       "</style>\n",
       "<table border=\"1\" class=\"dataframe\">\n",
       "  <thead>\n",
       "    <tr style=\"text-align: right;\">\n",
       "      <th></th>\n",
       "      <th>Indicator</th>\n",
       "      <th>Country</th>\n",
       "      <th>Date</th>\n",
       "      <th>Value</th>\n",
       "    </tr>\n",
       "  </thead>\n",
       "  <tbody>\n",
       "    <tr>\n",
       "      <th>0</th>\n",
       "      <td>Cumulative number of confirmed, probable and s...</td>\n",
       "      <td>Guinea</td>\n",
       "      <td>2015-03-10</td>\n",
       "      <td>3285.0</td>\n",
       "    </tr>\n",
       "    <tr>\n",
       "      <th>1</th>\n",
       "      <td>Cumulative number of confirmed Ebola cases</td>\n",
       "      <td>Guinea</td>\n",
       "      <td>2015-03-10</td>\n",
       "      <td>2871.0</td>\n",
       "    </tr>\n",
       "    <tr>\n",
       "      <th>2</th>\n",
       "      <td>Cumulative number of probable Ebola cases</td>\n",
       "      <td>Guinea</td>\n",
       "      <td>2015-03-10</td>\n",
       "      <td>392.0</td>\n",
       "    </tr>\n",
       "    <tr>\n",
       "      <th>3</th>\n",
       "      <td>Cumulative number of suspected Ebola cases</td>\n",
       "      <td>Guinea</td>\n",
       "      <td>2015-03-10</td>\n",
       "      <td>22.0</td>\n",
       "    </tr>\n",
       "    <tr>\n",
       "      <th>4</th>\n",
       "      <td>Cumulative number of confirmed, probable and s...</td>\n",
       "      <td>Guinea</td>\n",
       "      <td>2015-03-10</td>\n",
       "      <td>2170.0</td>\n",
       "    </tr>\n",
       "    <tr>\n",
       "      <th>5</th>\n",
       "      <td>Cumulative number of confirmed Ebola deaths</td>\n",
       "      <td>Guinea</td>\n",
       "      <td>2015-03-10</td>\n",
       "      <td>1778.0</td>\n",
       "    </tr>\n",
       "    <tr>\n",
       "      <th>6</th>\n",
       "      <td>Cumulative number of probable Ebola deaths</td>\n",
       "      <td>Guinea</td>\n",
       "      <td>2015-03-10</td>\n",
       "      <td>392.0</td>\n",
       "    </tr>\n",
       "    <tr>\n",
       "      <th>66</th>\n",
       "      <td>Cumulative number of confirmed, probable and s...</td>\n",
       "      <td>Guinea</td>\n",
       "      <td>2015-03-06</td>\n",
       "      <td>3248.0</td>\n",
       "    </tr>\n",
       "    <tr>\n",
       "      <th>67</th>\n",
       "      <td>Cumulative number of confirmed Ebola cases</td>\n",
       "      <td>Guinea</td>\n",
       "      <td>2015-03-06</td>\n",
       "      <td>2840.0</td>\n",
       "    </tr>\n",
       "    <tr>\n",
       "      <th>68</th>\n",
       "      <td>Cumulative number of probable Ebola cases</td>\n",
       "      <td>Guinea</td>\n",
       "      <td>2015-03-06</td>\n",
       "      <td>392.0</td>\n",
       "    </tr>\n",
       "  </tbody>\n",
       "</table>\n",
       "</div>"
      ],
      "text/plain": [
       "                                            Indicator Country        Date  \\\n",
       "0   Cumulative number of confirmed, probable and s...  Guinea  2015-03-10   \n",
       "1          Cumulative number of confirmed Ebola cases  Guinea  2015-03-10   \n",
       "2           Cumulative number of probable Ebola cases  Guinea  2015-03-10   \n",
       "3          Cumulative number of suspected Ebola cases  Guinea  2015-03-10   \n",
       "4   Cumulative number of confirmed, probable and s...  Guinea  2015-03-10   \n",
       "5         Cumulative number of confirmed Ebola deaths  Guinea  2015-03-10   \n",
       "6          Cumulative number of probable Ebola deaths  Guinea  2015-03-10   \n",
       "66  Cumulative number of confirmed, probable and s...  Guinea  2015-03-06   \n",
       "67         Cumulative number of confirmed Ebola cases  Guinea  2015-03-06   \n",
       "68          Cumulative number of probable Ebola cases  Guinea  2015-03-06   \n",
       "\n",
       "     Value  \n",
       "0   3285.0  \n",
       "1   2871.0  \n",
       "2    392.0  \n",
       "3     22.0  \n",
       "4   2170.0  \n",
       "5   1778.0  \n",
       "6    392.0  \n",
       "66  3248.0  \n",
       "67  2840.0  \n",
       "68   392.0  "
      ]
     },
     "execution_count": 539,
     "metadata": {},
     "output_type": "execute_result"
    }
   ],
   "source": [
    "# First ten rows of Guinea\n",
    "maindf.loc[maindf[\"Country\"]==\"Guinea\"].head(10)"
   ]
  },
  {
   "cell_type": "code",
   "execution_count": 540,
   "metadata": {},
   "outputs": [
    {
     "data": {
      "text/html": [
       "<div>\n",
       "<style scoped>\n",
       "    .dataframe tbody tr th:only-of-type {\n",
       "        vertical-align: middle;\n",
       "    }\n",
       "\n",
       "    .dataframe tbody tr th {\n",
       "        vertical-align: top;\n",
       "    }\n",
       "\n",
       "    .dataframe thead th {\n",
       "        text-align: right;\n",
       "    }\n",
       "</style>\n",
       "<table border=\"1\" class=\"dataframe\">\n",
       "  <thead>\n",
       "    <tr style=\"text-align: right;\">\n",
       "      <th></th>\n",
       "      <th>Indicator</th>\n",
       "      <th>Country</th>\n",
       "      <th>Date</th>\n",
       "      <th>Value</th>\n",
       "    </tr>\n",
       "  </thead>\n",
       "  <tbody>\n",
       "    <tr>\n",
       "      <th>17448</th>\n",
       "      <td>Cumulative number of confirmed, probable and s...</td>\n",
       "      <td>Guinea</td>\n",
       "      <td>2015-12-29</td>\n",
       "      <td>3804.0</td>\n",
       "    </tr>\n",
       "    <tr>\n",
       "      <th>17449</th>\n",
       "      <td>Cumulative number of confirmed Ebola cases</td>\n",
       "      <td>Guinea</td>\n",
       "      <td>2015-12-29</td>\n",
       "      <td>3351.0</td>\n",
       "    </tr>\n",
       "    <tr>\n",
       "      <th>17450</th>\n",
       "      <td>Cumulative number of probable Ebola cases</td>\n",
       "      <td>Guinea</td>\n",
       "      <td>2015-12-29</td>\n",
       "      <td>453.0</td>\n",
       "    </tr>\n",
       "    <tr>\n",
       "      <th>17502</th>\n",
       "      <td>Cumulative number of confirmed Ebola cases</td>\n",
       "      <td>Guinea</td>\n",
       "      <td>2016-03-23</td>\n",
       "      <td>3351.0</td>\n",
       "    </tr>\n",
       "    <tr>\n",
       "      <th>17503</th>\n",
       "      <td>Cumulative number of probable Ebola cases</td>\n",
       "      <td>Guinea</td>\n",
       "      <td>2016-03-23</td>\n",
       "      <td>453.0</td>\n",
       "    </tr>\n",
       "    <tr>\n",
       "      <th>17504</th>\n",
       "      <td>Cumulative number of suspected Ebola cases</td>\n",
       "      <td>Guinea</td>\n",
       "      <td>2016-03-23</td>\n",
       "      <td>0.0</td>\n",
       "    </tr>\n",
       "    <tr>\n",
       "      <th>17505</th>\n",
       "      <td>Cumulative number of confirmed, probable and s...</td>\n",
       "      <td>Guinea</td>\n",
       "      <td>2016-03-23</td>\n",
       "      <td>3804.0</td>\n",
       "    </tr>\n",
       "    <tr>\n",
       "      <th>17506</th>\n",
       "      <td>Cumulative number of confirmed Ebola deaths</td>\n",
       "      <td>Guinea</td>\n",
       "      <td>2016-03-23</td>\n",
       "      <td>2083.0</td>\n",
       "    </tr>\n",
       "    <tr>\n",
       "      <th>17507</th>\n",
       "      <td>Cumulative number of probable Ebola deaths</td>\n",
       "      <td>Guinea</td>\n",
       "      <td>2016-03-23</td>\n",
       "      <td>453.0</td>\n",
       "    </tr>\n",
       "    <tr>\n",
       "      <th>17508</th>\n",
       "      <td>Cumulative number of confirmed, probable and s...</td>\n",
       "      <td>Guinea</td>\n",
       "      <td>2016-03-23</td>\n",
       "      <td>2536.0</td>\n",
       "    </tr>\n",
       "  </tbody>\n",
       "</table>\n",
       "</div>"
      ],
      "text/plain": [
       "                                               Indicator Country        Date  \\\n",
       "17448  Cumulative number of confirmed, probable and s...  Guinea  2015-12-29   \n",
       "17449         Cumulative number of confirmed Ebola cases  Guinea  2015-12-29   \n",
       "17450          Cumulative number of probable Ebola cases  Guinea  2015-12-29   \n",
       "17502         Cumulative number of confirmed Ebola cases  Guinea  2016-03-23   \n",
       "17503          Cumulative number of probable Ebola cases  Guinea  2016-03-23   \n",
       "17504         Cumulative number of suspected Ebola cases  Guinea  2016-03-23   \n",
       "17505  Cumulative number of confirmed, probable and s...  Guinea  2016-03-23   \n",
       "17506        Cumulative number of confirmed Ebola deaths  Guinea  2016-03-23   \n",
       "17507         Cumulative number of probable Ebola deaths  Guinea  2016-03-23   \n",
       "17508  Cumulative number of confirmed, probable and s...  Guinea  2016-03-23   \n",
       "\n",
       "        Value  \n",
       "17448  3804.0  \n",
       "17449  3351.0  \n",
       "17450   453.0  \n",
       "17502  3351.0  \n",
       "17503   453.0  \n",
       "17504     0.0  \n",
       "17505  3804.0  \n",
       "17506  2083.0  \n",
       "17507   453.0  \n",
       "17508  2536.0  "
      ]
     },
     "execution_count": 540,
     "metadata": {},
     "output_type": "execute_result"
    }
   ],
   "source": [
    "# Last ten rows of Guinea\n",
    "maindf.loc[maindf[\"Country\"]==\"Guinea\"].tail(10)"
   ]
  },
  {
   "cell_type": "code",
   "execution_count": 541,
   "metadata": {},
   "outputs": [
    {
     "data": {
      "text/html": [
       "<div>\n",
       "<style scoped>\n",
       "    .dataframe tbody tr th:only-of-type {\n",
       "        vertical-align: middle;\n",
       "    }\n",
       "\n",
       "    .dataframe tbody tr th {\n",
       "        vertical-align: top;\n",
       "    }\n",
       "\n",
       "    .dataframe thead th {\n",
       "        text-align: right;\n",
       "    }\n",
       "</style>\n",
       "<table border=\"1\" class=\"dataframe\">\n",
       "  <thead>\n",
       "    <tr style=\"text-align: right;\">\n",
       "      <th></th>\n",
       "      <th>Indicator</th>\n",
       "      <th>Country</th>\n",
       "      <th>Date</th>\n",
       "      <th>Value</th>\n",
       "    </tr>\n",
       "  </thead>\n",
       "  <tbody>\n",
       "    <tr>\n",
       "      <th>17528</th>\n",
       "      <td>Cumulative number of confirmed Ebola cases</td>\n",
       "      <td>Guinea 2</td>\n",
       "      <td>2016-03-23</td>\n",
       "      <td>2.0</td>\n",
       "    </tr>\n",
       "    <tr>\n",
       "      <th>17529</th>\n",
       "      <td>Cumulative number of probable Ebola cases</td>\n",
       "      <td>Guinea 2</td>\n",
       "      <td>2016-03-23</td>\n",
       "      <td>3.0</td>\n",
       "    </tr>\n",
       "    <tr>\n",
       "      <th>17530</th>\n",
       "      <td>Cumulative number of suspected Ebola cases</td>\n",
       "      <td>Guinea 2</td>\n",
       "      <td>2016-03-23</td>\n",
       "      <td>0.0</td>\n",
       "    </tr>\n",
       "    <tr>\n",
       "      <th>17531</th>\n",
       "      <td>Cumulative number of confirmed, probable and s...</td>\n",
       "      <td>Guinea 2</td>\n",
       "      <td>2016-03-23</td>\n",
       "      <td>5.0</td>\n",
       "    </tr>\n",
       "    <tr>\n",
       "      <th>17532</th>\n",
       "      <td>Number of confirmed Ebola cases in the last 21...</td>\n",
       "      <td>Guinea 2</td>\n",
       "      <td>2016-03-23</td>\n",
       "      <td>2.0</td>\n",
       "    </tr>\n",
       "    <tr>\n",
       "      <th>17533</th>\n",
       "      <td>Number of probable Ebola cases in the last 21 ...</td>\n",
       "      <td>Guinea 2</td>\n",
       "      <td>2016-03-23</td>\n",
       "      <td>3.0</td>\n",
       "    </tr>\n",
       "    <tr>\n",
       "      <th>17534</th>\n",
       "      <td>Number of confirmed, probable and suspected Eb...</td>\n",
       "      <td>Guinea 2</td>\n",
       "      <td>2016-03-23</td>\n",
       "      <td>5.0</td>\n",
       "    </tr>\n",
       "    <tr>\n",
       "      <th>17535</th>\n",
       "      <td>Cumulative number of confirmed Ebola deaths</td>\n",
       "      <td>Guinea 2</td>\n",
       "      <td>2016-03-23</td>\n",
       "      <td>1.0</td>\n",
       "    </tr>\n",
       "    <tr>\n",
       "      <th>17536</th>\n",
       "      <td>Cumulative number of probable Ebola deaths</td>\n",
       "      <td>Guinea 2</td>\n",
       "      <td>2016-03-23</td>\n",
       "      <td>3.0</td>\n",
       "    </tr>\n",
       "    <tr>\n",
       "      <th>17537</th>\n",
       "      <td>Cumulative number of confirmed, probable and s...</td>\n",
       "      <td>Guinea 2</td>\n",
       "      <td>2016-03-23</td>\n",
       "      <td>4.0</td>\n",
       "    </tr>\n",
       "  </tbody>\n",
       "</table>\n",
       "</div>"
      ],
      "text/plain": [
       "                                               Indicator   Country  \\\n",
       "17528         Cumulative number of confirmed Ebola cases  Guinea 2   \n",
       "17529          Cumulative number of probable Ebola cases  Guinea 2   \n",
       "17530         Cumulative number of suspected Ebola cases  Guinea 2   \n",
       "17531  Cumulative number of confirmed, probable and s...  Guinea 2   \n",
       "17532  Number of confirmed Ebola cases in the last 21...  Guinea 2   \n",
       "17533  Number of probable Ebola cases in the last 21 ...  Guinea 2   \n",
       "17534  Number of confirmed, probable and suspected Eb...  Guinea 2   \n",
       "17535        Cumulative number of confirmed Ebola deaths  Guinea 2   \n",
       "17536         Cumulative number of probable Ebola deaths  Guinea 2   \n",
       "17537  Cumulative number of confirmed, probable and s...  Guinea 2   \n",
       "\n",
       "             Date  Value  \n",
       "17528  2016-03-23    2.0  \n",
       "17529  2016-03-23    3.0  \n",
       "17530  2016-03-23    0.0  \n",
       "17531  2016-03-23    5.0  \n",
       "17532  2016-03-23    2.0  \n",
       "17533  2016-03-23    3.0  \n",
       "17534  2016-03-23    5.0  \n",
       "17535  2016-03-23    1.0  \n",
       "17536  2016-03-23    3.0  \n",
       "17537  2016-03-23    4.0  "
      ]
     },
     "execution_count": 541,
     "metadata": {},
     "output_type": "execute_result"
    }
   ],
   "source": [
    "# Rows of country 'Guinea 2'\n",
    "maindf.loc[maindf[\"Country\"]==\"Guinea 2\"]"
   ]
  },
  {
   "cell_type": "markdown",
   "metadata": {},
   "source": [
    "### On inspection of the dates, we find that 'Guinea' and 'Guinea 2' have different records for the same date.\n",
    "### Information available on the internet provides us with sufficient information to confirm that 'Guinea 2' refers to the country- Guinea Bissua.\n",
    "### In order to make it clear, we change the name 'Guinea 2' to 'Guinea B'"
   ]
  },
  {
   "cell_type": "code",
   "execution_count": 542,
   "metadata": {},
   "outputs": [],
   "source": [
    "# renaming 'Guinea 2' to 'Guinea B'\n",
    "maindf.loc[maindf[\"Country\"]==\"Guinea 2\", \"Country\"] = \"Guinea Bissua\""
   ]
  },
  {
   "cell_type": "code",
   "execution_count": 543,
   "metadata": {},
   "outputs": [
    {
     "data": {
      "text/html": [
       "<div>\n",
       "<style scoped>\n",
       "    .dataframe tbody tr th:only-of-type {\n",
       "        vertical-align: middle;\n",
       "    }\n",
       "\n",
       "    .dataframe tbody tr th {\n",
       "        vertical-align: top;\n",
       "    }\n",
       "\n",
       "    .dataframe thead th {\n",
       "        text-align: right;\n",
       "    }\n",
       "</style>\n",
       "<table border=\"1\" class=\"dataframe\">\n",
       "  <thead>\n",
       "    <tr style=\"text-align: right;\">\n",
       "      <th></th>\n",
       "      <th>Indicator</th>\n",
       "      <th>Country</th>\n",
       "      <th>Date</th>\n",
       "      <th>Value</th>\n",
       "    </tr>\n",
       "  </thead>\n",
       "  <tbody>\n",
       "    <tr>\n",
       "      <th>17528</th>\n",
       "      <td>Cumulative number of confirmed Ebola cases</td>\n",
       "      <td>Guinea Bissua</td>\n",
       "      <td>2016-03-23</td>\n",
       "      <td>2.0</td>\n",
       "    </tr>\n",
       "    <tr>\n",
       "      <th>17529</th>\n",
       "      <td>Cumulative number of probable Ebola cases</td>\n",
       "      <td>Guinea Bissua</td>\n",
       "      <td>2016-03-23</td>\n",
       "      <td>3.0</td>\n",
       "    </tr>\n",
       "    <tr>\n",
       "      <th>17530</th>\n",
       "      <td>Cumulative number of suspected Ebola cases</td>\n",
       "      <td>Guinea Bissua</td>\n",
       "      <td>2016-03-23</td>\n",
       "      <td>0.0</td>\n",
       "    </tr>\n",
       "    <tr>\n",
       "      <th>17531</th>\n",
       "      <td>Cumulative number of confirmed, probable and s...</td>\n",
       "      <td>Guinea Bissua</td>\n",
       "      <td>2016-03-23</td>\n",
       "      <td>5.0</td>\n",
       "    </tr>\n",
       "    <tr>\n",
       "      <th>17532</th>\n",
       "      <td>Number of confirmed Ebola cases in the last 21...</td>\n",
       "      <td>Guinea Bissua</td>\n",
       "      <td>2016-03-23</td>\n",
       "      <td>2.0</td>\n",
       "    </tr>\n",
       "    <tr>\n",
       "      <th>17533</th>\n",
       "      <td>Number of probable Ebola cases in the last 21 ...</td>\n",
       "      <td>Guinea Bissua</td>\n",
       "      <td>2016-03-23</td>\n",
       "      <td>3.0</td>\n",
       "    </tr>\n",
       "    <tr>\n",
       "      <th>17534</th>\n",
       "      <td>Number of confirmed, probable and suspected Eb...</td>\n",
       "      <td>Guinea Bissua</td>\n",
       "      <td>2016-03-23</td>\n",
       "      <td>5.0</td>\n",
       "    </tr>\n",
       "    <tr>\n",
       "      <th>17535</th>\n",
       "      <td>Cumulative number of confirmed Ebola deaths</td>\n",
       "      <td>Guinea Bissua</td>\n",
       "      <td>2016-03-23</td>\n",
       "      <td>1.0</td>\n",
       "    </tr>\n",
       "    <tr>\n",
       "      <th>17536</th>\n",
       "      <td>Cumulative number of probable Ebola deaths</td>\n",
       "      <td>Guinea Bissua</td>\n",
       "      <td>2016-03-23</td>\n",
       "      <td>3.0</td>\n",
       "    </tr>\n",
       "    <tr>\n",
       "      <th>17537</th>\n",
       "      <td>Cumulative number of confirmed, probable and s...</td>\n",
       "      <td>Guinea Bissua</td>\n",
       "      <td>2016-03-23</td>\n",
       "      <td>4.0</td>\n",
       "    </tr>\n",
       "  </tbody>\n",
       "</table>\n",
       "</div>"
      ],
      "text/plain": [
       "                                               Indicator        Country  \\\n",
       "17528         Cumulative number of confirmed Ebola cases  Guinea Bissua   \n",
       "17529          Cumulative number of probable Ebola cases  Guinea Bissua   \n",
       "17530         Cumulative number of suspected Ebola cases  Guinea Bissua   \n",
       "17531  Cumulative number of confirmed, probable and s...  Guinea Bissua   \n",
       "17532  Number of confirmed Ebola cases in the last 21...  Guinea Bissua   \n",
       "17533  Number of probable Ebola cases in the last 21 ...  Guinea Bissua   \n",
       "17534  Number of confirmed, probable and suspected Eb...  Guinea Bissua   \n",
       "17535        Cumulative number of confirmed Ebola deaths  Guinea Bissua   \n",
       "17536         Cumulative number of probable Ebola deaths  Guinea Bissua   \n",
       "17537  Cumulative number of confirmed, probable and s...  Guinea Bissua   \n",
       "\n",
       "             Date  Value  \n",
       "17528  2016-03-23    2.0  \n",
       "17529  2016-03-23    3.0  \n",
       "17530  2016-03-23    0.0  \n",
       "17531  2016-03-23    5.0  \n",
       "17532  2016-03-23    2.0  \n",
       "17533  2016-03-23    3.0  \n",
       "17534  2016-03-23    5.0  \n",
       "17535  2016-03-23    1.0  \n",
       "17536  2016-03-23    3.0  \n",
       "17537  2016-03-23    4.0  "
      ]
     },
     "execution_count": 543,
     "metadata": {},
     "output_type": "execute_result"
    }
   ],
   "source": [
    "maindf.loc[maindf[\"Country\"]==\"Guinea Bissua\"]"
   ]
  },
  {
   "cell_type": "markdown",
   "metadata": {},
   "source": [
    "### Checking whether same 'Indicator' and 'Date' have different corresponding 'Value' for 'Liberia' and 'Liberia 2'"
   ]
  },
  {
   "cell_type": "code",
   "execution_count": 544,
   "metadata": {},
   "outputs": [
    {
     "data": {
      "text/html": [
       "<div>\n",
       "<style scoped>\n",
       "    .dataframe tbody tr th:only-of-type {\n",
       "        vertical-align: middle;\n",
       "    }\n",
       "\n",
       "    .dataframe tbody tr th {\n",
       "        vertical-align: top;\n",
       "    }\n",
       "\n",
       "    .dataframe thead th {\n",
       "        text-align: right;\n",
       "    }\n",
       "</style>\n",
       "<table border=\"1\" class=\"dataframe\">\n",
       "  <thead>\n",
       "    <tr style=\"text-align: right;\">\n",
       "      <th></th>\n",
       "      <th>Indicator</th>\n",
       "      <th>Country</th>\n",
       "      <th>Date</th>\n",
       "      <th>Value</th>\n",
       "    </tr>\n",
       "  </thead>\n",
       "  <tbody>\n",
       "    <tr>\n",
       "      <th>17290</th>\n",
       "      <td>Cumulative number of confirmed, probable and s...</td>\n",
       "      <td>Liberia</td>\n",
       "      <td>2015-12-22</td>\n",
       "      <td>10666.0</td>\n",
       "    </tr>\n",
       "  </tbody>\n",
       "</table>\n",
       "</div>"
      ],
      "text/plain": [
       "                                               Indicator  Country        Date  \\\n",
       "17290  Cumulative number of confirmed, probable and s...  Liberia  2015-12-22   \n",
       "\n",
       "         Value  \n",
       "17290  10666.0  "
      ]
     },
     "execution_count": 544,
     "metadata": {},
     "output_type": "execute_result"
    }
   ],
   "source": [
    "maindf.loc[(maindf[\"Country\"]==\"Liberia\") & \n",
    "           (maindf[\"Indicator\"]==\"Cumulative number of confirmed, probable and suspected Ebola cases\") & \n",
    "           (maindf[\"Date\"]==\"2015-12-22\")]"
   ]
  },
  {
   "cell_type": "code",
   "execution_count": 545,
   "metadata": {},
   "outputs": [
    {
     "data": {
      "text/html": [
       "<div>\n",
       "<style scoped>\n",
       "    .dataframe tbody tr th:only-of-type {\n",
       "        vertical-align: middle;\n",
       "    }\n",
       "\n",
       "    .dataframe tbody tr th {\n",
       "        vertical-align: top;\n",
       "    }\n",
       "\n",
       "    .dataframe thead th {\n",
       "        text-align: right;\n",
       "    }\n",
       "</style>\n",
       "<table border=\"1\" class=\"dataframe\">\n",
       "  <thead>\n",
       "    <tr style=\"text-align: right;\">\n",
       "      <th></th>\n",
       "      <th>Indicator</th>\n",
       "      <th>Country</th>\n",
       "      <th>Date</th>\n",
       "      <th>Value</th>\n",
       "    </tr>\n",
       "  </thead>\n",
       "  <tbody>\n",
       "    <tr>\n",
       "      <th>17304</th>\n",
       "      <td>Cumulative number of confirmed, probable and s...</td>\n",
       "      <td>Liberia 2</td>\n",
       "      <td>2015-12-22</td>\n",
       "      <td>9.0</td>\n",
       "    </tr>\n",
       "  </tbody>\n",
       "</table>\n",
       "</div>"
      ],
      "text/plain": [
       "                                               Indicator    Country  \\\n",
       "17304  Cumulative number of confirmed, probable and s...  Liberia 2   \n",
       "\n",
       "             Date  Value  \n",
       "17304  2015-12-22    9.0  "
      ]
     },
     "execution_count": 545,
     "metadata": {},
     "output_type": "execute_result"
    }
   ],
   "source": [
    "maindf.loc[(maindf[\"Country\"]==\"Liberia 2\") & \n",
    "           (maindf[\"Indicator\"]==\"Cumulative number of confirmed, probable and suspected Ebola cases\") & \n",
    "           (maindf[\"Date\"]==\"2015-12-22\")]"
   ]
  },
  {
   "cell_type": "markdown",
   "metadata": {},
   "source": [
    "### The two values are drastically different. There is no certainty what Liberia 2 refers too. \n",
    "### Therefore, we drop the rows with 'Country' as 'Liberia 2'"
   ]
  },
  {
   "cell_type": "code",
   "execution_count": 546,
   "metadata": {},
   "outputs": [
    {
     "data": {
      "text/plain": [
       "536"
      ]
     },
     "execution_count": 546,
     "metadata": {},
     "output_type": "execute_result"
    }
   ],
   "source": [
    "# number of rows with 'Country' as 'Liberia 2'\n",
    "maindf.loc[maindf[\"Country\"]==\"Liberia 2\",\"Country\"].size"
   ]
  },
  {
   "cell_type": "code",
   "execution_count": 547,
   "metadata": {},
   "outputs": [],
   "source": [
    "# Dropping the rows with 'Country'='Liberia 2'\n",
    "maindf = maindf.drop(maindf[maindf[\"Country\"]==\"Liberia 2\"].index)"
   ]
  },
  {
   "cell_type": "code",
   "execution_count": 548,
   "metadata": {},
   "outputs": [
    {
     "name": "stdout",
     "output_type": "stream",
     "text": [
      "Indicator: 36\n",
      "Country: 11\n",
      "Date: 259\n",
      "Value: 1793\n"
     ]
    }
   ],
   "source": [
    "# number of unqiue values in each column\n",
    "# note: number of countries ha reduced to 11 from 12\n",
    "for col in maindf.columns:\n",
    "    print (col + \": {}\".format(maindf[col].unique().size))"
   ]
  },
  {
   "cell_type": "code",
   "execution_count": 549,
   "metadata": {},
   "outputs": [
    {
     "data": {
      "text/plain": [
       "(17049, 4)"
      ]
     },
     "execution_count": 549,
     "metadata": {},
     "output_type": "execute_result"
    }
   ],
   "source": [
    "# New dimensions of the dataframe\n",
    "maindf.shape"
   ]
  },
  {
   "cell_type": "markdown",
   "metadata": {},
   "source": [
    "### Calculating the percentages of Cumulative confirmed, probable and suspected cases till the last date of reporting (23-03-2016)"
   ]
  },
  {
   "cell_type": "code",
   "execution_count": 550,
   "metadata": {},
   "outputs": [
    {
     "data": {
      "text/html": [
       "<div>\n",
       "<style scoped>\n",
       "    .dataframe tbody tr th:only-of-type {\n",
       "        vertical-align: middle;\n",
       "    }\n",
       "\n",
       "    .dataframe tbody tr th {\n",
       "        vertical-align: top;\n",
       "    }\n",
       "\n",
       "    .dataframe thead th {\n",
       "        text-align: right;\n",
       "    }\n",
       "</style>\n",
       "<table border=\"1\" class=\"dataframe\">\n",
       "  <thead>\n",
       "    <tr style=\"text-align: right;\">\n",
       "      <th></th>\n",
       "      <th>Country</th>\n",
       "      <th>Value</th>\n",
       "    </tr>\n",
       "  </thead>\n",
       "  <tbody>\n",
       "    <tr>\n",
       "      <th>17517</th>\n",
       "      <td>Sierra Leone</td>\n",
       "      <td>14122.0</td>\n",
       "    </tr>\n",
       "    <tr>\n",
       "      <th>17512</th>\n",
       "      <td>Liberia</td>\n",
       "      <td>10666.0</td>\n",
       "    </tr>\n",
       "    <tr>\n",
       "      <th>17505</th>\n",
       "      <td>Guinea</td>\n",
       "      <td>3804.0</td>\n",
       "    </tr>\n",
       "    <tr>\n",
       "      <th>17556</th>\n",
       "      <td>Nigeria</td>\n",
       "      <td>20.0</td>\n",
       "    </tr>\n",
       "    <tr>\n",
       "      <th>17552</th>\n",
       "      <td>Mali</td>\n",
       "      <td>8.0</td>\n",
       "    </tr>\n",
       "    <tr>\n",
       "      <th>17531</th>\n",
       "      <td>Guinea Bissua</td>\n",
       "      <td>5.0</td>\n",
       "    </tr>\n",
       "    <tr>\n",
       "      <th>17568</th>\n",
       "      <td>United States of America</td>\n",
       "      <td>4.0</td>\n",
       "    </tr>\n",
       "    <tr>\n",
       "      <th>17542</th>\n",
       "      <td>Italy</td>\n",
       "      <td>1.0</td>\n",
       "    </tr>\n",
       "    <tr>\n",
       "      <th>17547</th>\n",
       "      <td>United Kingdom</td>\n",
       "      <td>1.0</td>\n",
       "    </tr>\n",
       "    <tr>\n",
       "      <th>17560</th>\n",
       "      <td>Senegal</td>\n",
       "      <td>1.0</td>\n",
       "    </tr>\n",
       "    <tr>\n",
       "      <th>17564</th>\n",
       "      <td>Spain</td>\n",
       "      <td>1.0</td>\n",
       "    </tr>\n",
       "  </tbody>\n",
       "</table>\n",
       "</div>"
      ],
      "text/plain": [
       "                        Country    Value\n",
       "17517              Sierra Leone  14122.0\n",
       "17512                   Liberia  10666.0\n",
       "17505                    Guinea   3804.0\n",
       "17556                   Nigeria     20.0\n",
       "17552                      Mali      8.0\n",
       "17531             Guinea Bissua      5.0\n",
       "17568  United States of America      4.0\n",
       "17542                     Italy      1.0\n",
       "17547            United Kingdom      1.0\n",
       "17560                   Senegal      1.0\n",
       "17564                     Spain      1.0"
      ]
     },
     "execution_count": 550,
     "metadata": {},
     "output_type": "execute_result"
    }
   ],
   "source": [
    "# Cumulative number of confirmed, probable and suspected Ebola cases till the last reported date of 23-03-2016 \n",
    "# in descending number of cases\n",
    "maindf.loc[(maindf[\"Indicator\"]==\"Cumulative number of confirmed, probable and suspected Ebola cases\") & \n",
    "           (maindf[\"Date\"]==\"2016-03-23\"), [\"Country\", \"Value\"]].sort_values(by=[\"Value\"], ascending=False)"
   ]
  },
  {
   "cell_type": "code",
   "execution_count": 551,
   "metadata": {},
   "outputs": [
    {
     "name": "stdout",
     "output_type": "stream",
     "text": [
      "['Sierra Leone', 'Liberia', 'Guinea', 'Nigeria', 'Mali', 'Guinea Bissua', 'United States of America', 'Italy', 'United Kingdom', 'Senegal', 'Spain']\n"
     ]
    }
   ],
   "source": [
    "country1 = maindf.loc[(maindf[\"Indicator\"]==\"Cumulative number of confirmed, probable and suspected Ebola cases\") & \n",
    "           (maindf[\"Date\"]==\"2016-03-23\"), [\"Country\", \"Value\"]].sort_values(by=[\"Value\"], ascending=False)[\"Country\"].tolist()\n",
    "print (country1)"
   ]
  },
  {
   "cell_type": "code",
   "execution_count": 552,
   "metadata": {},
   "outputs": [
    {
     "data": {
      "text/plain": [
       "[14122.0, 10666.0, 3804.0, 20.0, 8.0, 5.0, 4.0, 1.0, 1.0, 1.0, 1.0]"
      ]
     },
     "execution_count": 552,
     "metadata": {},
     "output_type": "execute_result"
    }
   ],
   "source": [
    "val = pd.Series(maindf.loc[(maindf[\"Indicator\"]==\"Cumulative number of confirmed, probable and suspected Ebola cases\") & \n",
    "           (maindf[\"Date\"]==\"2016-03-23\"), [\"Value\"]].sort_values(by=[\"Value\"], ascending=False)[\"Value\"].tolist())\n",
    "val.tolist()"
   ]
  },
  {
   "cell_type": "code",
   "execution_count": 553,
   "metadata": {},
   "outputs": [
    {
     "name": "stderr",
     "output_type": "stream",
     "text": [
      "C:\\Users\\arshi\\Anaconda3\\lib\\site-packages\\matplotlib\\axes\\_axes.py:521: UserWarning: You have mixed positional and keyword arguments, some input will be discarded.\n",
      "  warnings.warn(\"You have mixed positional and keyword \"\n"
     ]
    },
    {
     "data": {
      "text/plain": [
       "<matplotlib.legend.Legend at 0x23b3f6b11d0>"
      ]
     },
     "execution_count": 553,
     "metadata": {},
     "output_type": "execute_result"
    },
    {
     "data": {
      "image/png": "[encoded data removed]",
      "text/plain": [
       "<matplotlib.figure.Figure at 0x23b41ac2e10>"
      ]
     },
     "metadata": {},
     "output_type": "display_data"
    }
   ],
   "source": [
    "plt.pie(val, autopct=\"%1.1f%%\", startangle=90)\n",
    "plt.legend(country1, bbox_to_anchor=(1,1), labels=['%s, %1.3f%%' % (c, v) for c, v in zip(country1, ((val/val.sum())*100))])"
   ]
  },
  {
   "cell_type": "markdown",
   "metadata": {},
   "source": [
    "### Rising trend in cumulatives number of confirmed, probable and suspected Ebola cases"
   ]
  },
  {
   "cell_type": "code",
   "execution_count": 668,
   "metadata": {},
   "outputs": [
    {
     "data": {
      "text/plain": [
       "<matplotlib.legend.Legend at 0x23b493ce5f8>"
      ]
     },
     "execution_count": 668,
     "metadata": {},
     "output_type": "execute_result"
    },
    {
     "data": {
      "image/png": "[encoded data removed]",
      "text/plain": [
       "<matplotlib.figure.Figure at 0x23b47e61a20>"
      ]
     },
     "metadata": {},
     "output_type": "display_data"
    }
   ],
   "source": [
    "for country in maindf[\"Country\"].unique().tolist():\n",
    "    \n",
    "    date = maindf.loc[(maindf[\"Country\"]==country) & \n",
    "               (maindf[\"Indicator\"]==\"Cumulative number of confirmed, probable and suspected Ebola deaths\"),\n",
    "                [\"Date\", \"Value\"]].sort_values(by=[\"Date\"])[\"Date\"].tolist()\n",
    "\n",
    "    cumvalue = maindf.loc[(maindf[\"Country\"]==country) & \n",
    "               (maindf[\"Indicator\"]==\"Cumulative number of confirmed, probable and suspected Ebola deaths\"),\n",
    "                [\"Date\", \"Value\"]].sort_values(by=[\"Date\"])[\"Value\"].tolist()\n",
    "    plt.plot(date, cumvalue, label=country)\n",
    " \n",
    "plt.xlabel(\"Time Span: 2014 to 2016-03-23\")\n",
    "plt.ylabel(\"Cumulative number of cases\")\n",
    "plt.legend(bbox_to_anchor=(1,1))"
   ]
  },
  {
   "cell_type": "code",
   "execution_count": 665,
   "metadata": {},
   "outputs": [
    {
     "data": {
      "image/png": "[encoded data removed]",
      "text/plain": [
       "<matplotlib.figure.Figure at 0x23b48b6a9b0>"
      ]
     },
     "metadata": {},
     "output_type": "display_data"
    }
   ],
   "source": [
    "    date = maindf.loc[(maindf[\"Country\"]==\"Sierra Leone\") & \n",
    "               (maindf[\"Indicator\"]==\"Cumulative number of confirmed, probable and suspected Ebola deaths\")&\n",
    "               (maindf[\"Date\"]<=\"2015-09-17\"), \n",
    "                [\"Date\", \"Value\"]].sort_values(by=[\"Date\"])[\"Date\"].tolist()\n",
    "\n",
    "    cumvalue = maindf.loc[(maindf[\"Country\"]==\"Sierra Leone\") & \n",
    "               (maindf[\"Indicator\"]==\"Cumulative number of confirmed, probable and suspected Ebola deaths\")&\n",
    "               (maindf[\"Date\"]<=\"2015-09-17\"), \n",
    "                [\"Date\", \"Value\"]].sort_values(by=[\"Date\"])[\"Value\"].tolist()\n",
    "    \n",
    "    plt.legend()\n",
    "   # plt.figure(figsize=(20,20))\n",
    "    plt.plot(date, cumvalue)\n",
    "    plt.rcParams[\"figure.figsize\"]=(5,4)\n",
    "    \n",
    "plt.legend()"
   ]
  },
  {
   "cell_type": "code",
   "execution_count": null,
   "metadata": {},
   "outputs": [],
   "source": []
  }
 ],
 "metadata": {
  "kernelspec": {
   "display_name": "Python [default]",
   "language": "python",
   "name": "python3"
  },
  "language_info": {
   "codemirror_mode": {
    "name": "ipython",
    "version": 3
   },
   "file_extension": ".py",
   "mimetype": "text/x-python",
   "name": "python",
   "nbconvert_exporter": "python",
   "pygments_lexer": "ipython3",
   "version": "3.6.3"
  }
 },
 "nbformat": 4,
 "nbformat_minor": 2
}
