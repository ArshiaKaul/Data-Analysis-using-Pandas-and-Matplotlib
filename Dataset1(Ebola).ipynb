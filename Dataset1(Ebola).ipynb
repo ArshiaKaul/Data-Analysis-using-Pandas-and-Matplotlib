{
 "cells": [
  {
   "cell_type": "markdown",
   "metadata": {},
   "source": [
    "# View using nbviewer\n",
    "https://nbviewer.jupyter.org/github/ArshiaKaul/Data-Analysis-using-Pandas-and-Matplotlib/blob/master/Dataset1%28Ebola%29.ipynb"
   ]
  },
  {
   "cell_type": "code",
   "execution_count": 1,
   "metadata": {},
   "outputs": [],
   "source": [
    "# import the pandas library\n",
    "import pandas as pd\n",
    "import numpy as np\n",
    "from matplotlib import pyplot as plt\n",
    "from matplotlib import figure as fig\n",
    "%matplotlib inline"
   ]
  },
  {
   "cell_type": "code",
   "execution_count": 2,
   "metadata": {},
   "outputs": [],
   "source": [
    "# import the database\n",
    "maindf = pd.read_csv(r\"./CSV_Files/ebola_data_db_format.csv\")"
   ]
  },
  {
   "cell_type": "code",
   "execution_count": 3,
   "metadata": {
    "scrolled": false
   },
   "outputs": [
    {
     "data": {
      "text/html": [
       "<div>\n",
       "<style scoped>\n",
       "    .dataframe tbody tr th:only-of-type {\n",
       "        vertical-align: middle;\n",
       "    }\n",
       "\n",
       "    .dataframe tbody tr th {\n",
       "        vertical-align: top;\n",
       "    }\n",
       "\n",
       "    .dataframe thead th {\n",
       "        text-align: right;\n",
       "    }\n",
       "</style>\n",
       "<table border=\"1\" class=\"dataframe\">\n",
       "  <thead>\n",
       "    <tr style=\"text-align: right;\">\n",
       "      <th></th>\n",
       "      <th>Indicator</th>\n",
       "      <th>Country</th>\n",
       "      <th>Date</th>\n",
       "      <th>value</th>\n",
       "    </tr>\n",
       "  </thead>\n",
       "  <tbody>\n",
       "    <tr>\n",
       "      <th>4362</th>\n",
       "      <td>Cumulative number of suspected Ebola cases</td>\n",
       "      <td>Guinea</td>\n",
       "      <td>2014-10-01</td>\n",
       "      <td>37.0</td>\n",
       "    </tr>\n",
       "    <tr>\n",
       "      <th>9261</th>\n",
       "      <td>Cumulative number of confirmed, probable and s...</td>\n",
       "      <td>Liberia</td>\n",
       "      <td>2015-06-19</td>\n",
       "      <td>4806.0</td>\n",
       "    </tr>\n",
       "    <tr>\n",
       "      <th>2619</th>\n",
       "      <td>Cumulative number of confirmed Ebola cases</td>\n",
       "      <td>Senegal</td>\n",
       "      <td>2015-01-02</td>\n",
       "      <td>1.0</td>\n",
       "    </tr>\n",
       "    <tr>\n",
       "      <th>17237</th>\n",
       "      <td>Cumulative number of probable Ebola cases</td>\n",
       "      <td>Italy</td>\n",
       "      <td>2015-12-17</td>\n",
       "      <td>0.0</td>\n",
       "    </tr>\n",
       "    <tr>\n",
       "      <th>64</th>\n",
       "      <td>Cumulative number of suspected Ebola cases</td>\n",
       "      <td>United Kingdom</td>\n",
       "      <td>2015-03-06</td>\n",
       "      <td>0.0</td>\n",
       "    </tr>\n",
       "  </tbody>\n",
       "</table>\n",
       "</div>"
      ],
      "text/plain": [
       "                                               Indicator         Country  \\\n",
       "4362          Cumulative number of suspected Ebola cases          Guinea   \n",
       "9261   Cumulative number of confirmed, probable and s...         Liberia   \n",
       "2619          Cumulative number of confirmed Ebola cases         Senegal   \n",
       "17237          Cumulative number of probable Ebola cases           Italy   \n",
       "64            Cumulative number of suspected Ebola cases  United Kingdom   \n",
       "\n",
       "             Date   value  \n",
       "4362   2014-10-01    37.0  \n",
       "9261   2015-06-19  4806.0  \n",
       "2619   2015-01-02     1.0  \n",
       "17237  2015-12-17     0.0  \n",
       "64     2015-03-06     0.0  "
      ]
     },
     "execution_count": 3,
     "metadata": {},
     "output_type": "execute_result"
    }
   ],
   "source": [
    "# A samle of five random row from the database\n",
    "maindf.sample(n=5)"
   ]
  },
  {
   "cell_type": "code",
   "execution_count": 4,
   "metadata": {},
   "outputs": [
    {
     "data": {
      "text/plain": [
       "Indicator     object\n",
       "Country       object\n",
       "Date          object\n",
       "value        float64\n",
       "dtype: object"
      ]
     },
     "execution_count": 4,
     "metadata": {},
     "output_type": "execute_result"
    }
   ],
   "source": [
    "# Columns in dataframe and their respective datatypes\n",
    "maindf.dtypes"
   ]
  },
  {
   "cell_type": "code",
   "execution_count": 5,
   "metadata": {},
   "outputs": [],
   "source": [
    "# rename column 'value' as 'Value'\n",
    "maindf = maindf.rename(columns = { \"value\": \"Value\"})"
   ]
  },
  {
   "cell_type": "code",
   "execution_count": 6,
   "metadata": {},
   "outputs": [
    {
     "data": {
      "text/plain": [
       "(17585, 4)"
      ]
     },
     "execution_count": 6,
     "metadata": {},
     "output_type": "execute_result"
    }
   ],
   "source": [
    "# dimensions of the database\n",
    "maindf.shape"
   ]
  },
  {
   "cell_type": "code",
   "execution_count": 7,
   "metadata": {},
   "outputs": [
    {
     "name": "stdout",
     "output_type": "stream",
     "text": [
      "Indicator: 36\n",
      "Country: 12\n",
      "Date: 259\n",
      "Value: 1793\n"
     ]
    }
   ],
   "source": [
    "# number of unqiue values in each column\n",
    "for col in maindf.columns:\n",
    "    print (col + \": {}\".format(maindf[col].unique().size))"
   ]
  },
  {
   "cell_type": "code",
   "execution_count": 8,
   "metadata": {},
   "outputs": [
    {
     "name": "stdout",
     "output_type": "stream",
     "text": [
      "Indicator\n",
      "Cumulative number of confirmed, probable and suspected Ebola deaths                            2485\n",
      "Cumulative number of confirmed Ebola cases                                                     2484\n",
      "Cumulative number of confirmed, probable and suspected Ebola cases                             2477\n",
      "Cumulative number of probable Ebola cases                                                      2436\n",
      "Cumulative number of suspected Ebola cases                                                     2366\n",
      "Cumulative number of confirmed Ebola deaths                                                    1648\n",
      "Cumulative number of probable Ebola deaths                                                     1526\n",
      "Cumulative number of suspected Ebola deaths                                                    1308\n",
      "Number of confirmed Ebola cases in the last 21 days                                             190\n",
      "Number of confirmed, probable and suspected Ebola cases in the last 21 days                     190\n",
      "Number of probable Ebola cases in the last 21 days                                               52\n",
      "Proportion of confirmed, probable and suspected Ebola cases that are from the last 21 days       41\n",
      "Proportion of confirmed Ebola cases that are from the last 21 days                               40\n",
      "Proportion of probable Ebola cases that are from the last 21 days                                40\n",
      "Proportion of suspected Ebola cases that are from the last 21 days                               39\n",
      "Number of suspected Ebola cases in the last 21 days                                              39\n",
      "Case fatality rate (CFR) of confirmed, probable and suspected Ebola cases                        19\n",
      "Case fatality rate (CFR) of confirmed Ebola cases                                                19\n",
      "Case fatality rate (CFR) of suspected Ebola cases                                                18\n",
      "Case fatality rate (CFR) of probable Ebola cases                                                 18\n",
      "Number of confirmed, probable and suspected Ebola deaths in the last 21 days                     14\n",
      "Number of confirmed Ebola deaths in the last 21 days                                             14\n",
      "Proportion of confirmed Ebola deaths that are from the last 21 days                              13\n",
      "Number of suspected Ebola deaths in the last 21 days                                             13\n",
      "Proportion of confirmed, probable and suspected Ebola deaths that are from the last 21 days      13\n",
      "Number of probable Ebola deaths in the last 21 days                                              13\n",
      "Proportion of probable Ebola deaths that are from the last 21 days                               12\n",
      "Proportion of suspected Ebola deaths that are from the last 21 days                              10\n",
      "Number of confirmed Ebola cases in the last 7 days                                                6\n",
      "Number of confirmed, probable and suspected Ebola cases in the last 7 days                        6\n",
      "Number of probable Ebola cases in the last 7 days                                                 6\n",
      "Number of suspected Ebola cases in the last 7 days                                                6\n",
      "Proportion of probable Ebola cases that are from the last 7 days                                  6\n",
      "Proportion of suspected Ebola cases that are from the last 7 days                                 6\n",
      "Proportion of confirmed, probable and suspected Ebola cases that are from the last 7 days         6\n",
      "Proportion of confirmed Ebola cases that are from the last 7 days                                 6\n",
      "Name: Indicator, dtype: int64\n",
      "\n",
      "\n",
      "Country\n",
      "Sierra Leone                2303\n",
      "Nigeria                     2124\n",
      "Guinea                      2086\n",
      "Senegal                     2081\n",
      "United States of America    1932\n",
      "Spain                       1924\n",
      "Liberia                     1540\n",
      "Mali                        1234\n",
      "United Kingdom              1107\n",
      "Italy                        708\n",
      "Liberia 2                    536\n",
      "Guinea 2                      10\n",
      "Name: Country, dtype: int64\n",
      "\n",
      "\n"
     ]
    }
   ],
   "source": [
    "# unique values in each the 'Indicator' and 'Country' columns and their number of occurances\n",
    "for col in [\"Indicator\", \"Country\"]:\n",
    "    print (col)\n",
    "    print (\"{}\".format(maindf[col].value_counts()))\n",
    "    print (\"\\n\")"
   ]
  },
  {
   "cell_type": "markdown",
   "metadata": {},
   "source": [
    "### The 'Country' column has two countries labelled as Guinea- 'Guinea' and 'Guinea 2'\n",
    "### And also two countries labelled as Liberia- 'Liberia' and 'Liberia 2'"
   ]
  },
  {
   "cell_type": "code",
   "execution_count": 9,
   "metadata": {},
   "outputs": [
    {
     "data": {
      "text/html": [
       "<div>\n",
       "<style scoped>\n",
       "    .dataframe tbody tr th:only-of-type {\n",
       "        vertical-align: middle;\n",
       "    }\n",
       "\n",
       "    .dataframe tbody tr th {\n",
       "        vertical-align: top;\n",
       "    }\n",
       "\n",
       "    .dataframe thead th {\n",
       "        text-align: right;\n",
       "    }\n",
       "</style>\n",
       "<table border=\"1\" class=\"dataframe\">\n",
       "  <thead>\n",
       "    <tr style=\"text-align: right;\">\n",
       "      <th></th>\n",
       "      <th>Indicator</th>\n",
       "      <th>Country</th>\n",
       "      <th>Date</th>\n",
       "      <th>Value</th>\n",
       "    </tr>\n",
       "  </thead>\n",
       "  <tbody>\n",
       "    <tr>\n",
       "      <th>0</th>\n",
       "      <td>Cumulative number of confirmed, probable and s...</td>\n",
       "      <td>Guinea</td>\n",
       "      <td>2015-03-10</td>\n",
       "      <td>3285.0</td>\n",
       "    </tr>\n",
       "    <tr>\n",
       "      <th>1</th>\n",
       "      <td>Cumulative number of confirmed Ebola cases</td>\n",
       "      <td>Guinea</td>\n",
       "      <td>2015-03-10</td>\n",
       "      <td>2871.0</td>\n",
       "    </tr>\n",
       "    <tr>\n",
       "      <th>2</th>\n",
       "      <td>Cumulative number of probable Ebola cases</td>\n",
       "      <td>Guinea</td>\n",
       "      <td>2015-03-10</td>\n",
       "      <td>392.0</td>\n",
       "    </tr>\n",
       "    <tr>\n",
       "      <th>3</th>\n",
       "      <td>Cumulative number of suspected Ebola cases</td>\n",
       "      <td>Guinea</td>\n",
       "      <td>2015-03-10</td>\n",
       "      <td>22.0</td>\n",
       "    </tr>\n",
       "    <tr>\n",
       "      <th>4</th>\n",
       "      <td>Cumulative number of confirmed, probable and s...</td>\n",
       "      <td>Guinea</td>\n",
       "      <td>2015-03-10</td>\n",
       "      <td>2170.0</td>\n",
       "    </tr>\n",
       "    <tr>\n",
       "      <th>5</th>\n",
       "      <td>Cumulative number of confirmed Ebola deaths</td>\n",
       "      <td>Guinea</td>\n",
       "      <td>2015-03-10</td>\n",
       "      <td>1778.0</td>\n",
       "    </tr>\n",
       "    <tr>\n",
       "      <th>6</th>\n",
       "      <td>Cumulative number of probable Ebola deaths</td>\n",
       "      <td>Guinea</td>\n",
       "      <td>2015-03-10</td>\n",
       "      <td>392.0</td>\n",
       "    </tr>\n",
       "    <tr>\n",
       "      <th>66</th>\n",
       "      <td>Cumulative number of confirmed, probable and s...</td>\n",
       "      <td>Guinea</td>\n",
       "      <td>2015-03-06</td>\n",
       "      <td>3248.0</td>\n",
       "    </tr>\n",
       "    <tr>\n",
       "      <th>67</th>\n",
       "      <td>Cumulative number of confirmed Ebola cases</td>\n",
       "      <td>Guinea</td>\n",
       "      <td>2015-03-06</td>\n",
       "      <td>2840.0</td>\n",
       "    </tr>\n",
       "    <tr>\n",
       "      <th>68</th>\n",
       "      <td>Cumulative number of probable Ebola cases</td>\n",
       "      <td>Guinea</td>\n",
       "      <td>2015-03-06</td>\n",
       "      <td>392.0</td>\n",
       "    </tr>\n",
       "  </tbody>\n",
       "</table>\n",
       "</div>"
      ],
      "text/plain": [
       "                                            Indicator Country        Date  \\\n",
       "0   Cumulative number of confirmed, probable and s...  Guinea  2015-03-10   \n",
       "1          Cumulative number of confirmed Ebola cases  Guinea  2015-03-10   \n",
       "2           Cumulative number of probable Ebola cases  Guinea  2015-03-10   \n",
       "3          Cumulative number of suspected Ebola cases  Guinea  2015-03-10   \n",
       "4   Cumulative number of confirmed, probable and s...  Guinea  2015-03-10   \n",
       "5         Cumulative number of confirmed Ebola deaths  Guinea  2015-03-10   \n",
       "6          Cumulative number of probable Ebola deaths  Guinea  2015-03-10   \n",
       "66  Cumulative number of confirmed, probable and s...  Guinea  2015-03-06   \n",
       "67         Cumulative number of confirmed Ebola cases  Guinea  2015-03-06   \n",
       "68          Cumulative number of probable Ebola cases  Guinea  2015-03-06   \n",
       "\n",
       "     Value  \n",
       "0   3285.0  \n",
       "1   2871.0  \n",
       "2    392.0  \n",
       "3     22.0  \n",
       "4   2170.0  \n",
       "5   1778.0  \n",
       "6    392.0  \n",
       "66  3248.0  \n",
       "67  2840.0  \n",
       "68   392.0  "
      ]
     },
     "execution_count": 9,
     "metadata": {},
     "output_type": "execute_result"
    }
   ],
   "source": [
    "# First ten rows of 'Guinea'\n",
    "maindf.loc[maindf[\"Country\"]==\"Guinea\"].head(10)"
   ]
  },
  {
   "cell_type": "code",
   "execution_count": 10,
   "metadata": {},
   "outputs": [
    {
     "data": {
      "text/html": [
       "<div>\n",
       "<style scoped>\n",
       "    .dataframe tbody tr th:only-of-type {\n",
       "        vertical-align: middle;\n",
       "    }\n",
       "\n",
       "    .dataframe tbody tr th {\n",
       "        vertical-align: top;\n",
       "    }\n",
       "\n",
       "    .dataframe thead th {\n",
       "        text-align: right;\n",
       "    }\n",
       "</style>\n",
       "<table border=\"1\" class=\"dataframe\">\n",
       "  <thead>\n",
       "    <tr style=\"text-align: right;\">\n",
       "      <th></th>\n",
       "      <th>Indicator</th>\n",
       "      <th>Country</th>\n",
       "      <th>Date</th>\n",
       "      <th>Value</th>\n",
       "    </tr>\n",
       "  </thead>\n",
       "  <tbody>\n",
       "    <tr>\n",
       "      <th>17448</th>\n",
       "      <td>Cumulative number of confirmed, probable and s...</td>\n",
       "      <td>Guinea</td>\n",
       "      <td>2015-12-29</td>\n",
       "      <td>3804.0</td>\n",
       "    </tr>\n",
       "    <tr>\n",
       "      <th>17449</th>\n",
       "      <td>Cumulative number of confirmed Ebola cases</td>\n",
       "      <td>Guinea</td>\n",
       "      <td>2015-12-29</td>\n",
       "      <td>3351.0</td>\n",
       "    </tr>\n",
       "    <tr>\n",
       "      <th>17450</th>\n",
       "      <td>Cumulative number of probable Ebola cases</td>\n",
       "      <td>Guinea</td>\n",
       "      <td>2015-12-29</td>\n",
       "      <td>453.0</td>\n",
       "    </tr>\n",
       "    <tr>\n",
       "      <th>17502</th>\n",
       "      <td>Cumulative number of confirmed Ebola cases</td>\n",
       "      <td>Guinea</td>\n",
       "      <td>2016-03-23</td>\n",
       "      <td>3351.0</td>\n",
       "    </tr>\n",
       "    <tr>\n",
       "      <th>17503</th>\n",
       "      <td>Cumulative number of probable Ebola cases</td>\n",
       "      <td>Guinea</td>\n",
       "      <td>2016-03-23</td>\n",
       "      <td>453.0</td>\n",
       "    </tr>\n",
       "    <tr>\n",
       "      <th>17504</th>\n",
       "      <td>Cumulative number of suspected Ebola cases</td>\n",
       "      <td>Guinea</td>\n",
       "      <td>2016-03-23</td>\n",
       "      <td>0.0</td>\n",
       "    </tr>\n",
       "    <tr>\n",
       "      <th>17505</th>\n",
       "      <td>Cumulative number of confirmed, probable and s...</td>\n",
       "      <td>Guinea</td>\n",
       "      <td>2016-03-23</td>\n",
       "      <td>3804.0</td>\n",
       "    </tr>\n",
       "    <tr>\n",
       "      <th>17506</th>\n",
       "      <td>Cumulative number of confirmed Ebola deaths</td>\n",
       "      <td>Guinea</td>\n",
       "      <td>2016-03-23</td>\n",
       "      <td>2083.0</td>\n",
       "    </tr>\n",
       "    <tr>\n",
       "      <th>17507</th>\n",
       "      <td>Cumulative number of probable Ebola deaths</td>\n",
       "      <td>Guinea</td>\n",
       "      <td>2016-03-23</td>\n",
       "      <td>453.0</td>\n",
       "    </tr>\n",
       "    <tr>\n",
       "      <th>17508</th>\n",
       "      <td>Cumulative number of confirmed, probable and s...</td>\n",
       "      <td>Guinea</td>\n",
       "      <td>2016-03-23</td>\n",
       "      <td>2536.0</td>\n",
       "    </tr>\n",
       "  </tbody>\n",
       "</table>\n",
       "</div>"
      ],
      "text/plain": [
       "                                               Indicator Country        Date  \\\n",
       "17448  Cumulative number of confirmed, probable and s...  Guinea  2015-12-29   \n",
       "17449         Cumulative number of confirmed Ebola cases  Guinea  2015-12-29   \n",
       "17450          Cumulative number of probable Ebola cases  Guinea  2015-12-29   \n",
       "17502         Cumulative number of confirmed Ebola cases  Guinea  2016-03-23   \n",
       "17503          Cumulative number of probable Ebola cases  Guinea  2016-03-23   \n",
       "17504         Cumulative number of suspected Ebola cases  Guinea  2016-03-23   \n",
       "17505  Cumulative number of confirmed, probable and s...  Guinea  2016-03-23   \n",
       "17506        Cumulative number of confirmed Ebola deaths  Guinea  2016-03-23   \n",
       "17507         Cumulative number of probable Ebola deaths  Guinea  2016-03-23   \n",
       "17508  Cumulative number of confirmed, probable and s...  Guinea  2016-03-23   \n",
       "\n",
       "        Value  \n",
       "17448  3804.0  \n",
       "17449  3351.0  \n",
       "17450   453.0  \n",
       "17502  3351.0  \n",
       "17503   453.0  \n",
       "17504     0.0  \n",
       "17505  3804.0  \n",
       "17506  2083.0  \n",
       "17507   453.0  \n",
       "17508  2536.0  "
      ]
     },
     "execution_count": 10,
     "metadata": {},
     "output_type": "execute_result"
    }
   ],
   "source": [
    "# Last ten rows of 'Guinea'\n",
    "maindf.loc[maindf[\"Country\"]==\"Guinea\"].tail(10)"
   ]
  },
  {
   "cell_type": "code",
   "execution_count": 11,
   "metadata": {},
   "outputs": [
    {
     "data": {
      "text/html": [
       "<div>\n",
       "<style scoped>\n",
       "    .dataframe tbody tr th:only-of-type {\n",
       "        vertical-align: middle;\n",
       "    }\n",
       "\n",
       "    .dataframe tbody tr th {\n",
       "        vertical-align: top;\n",
       "    }\n",
       "\n",
       "    .dataframe thead th {\n",
       "        text-align: right;\n",
       "    }\n",
       "</style>\n",
       "<table border=\"1\" class=\"dataframe\">\n",
       "  <thead>\n",
       "    <tr style=\"text-align: right;\">\n",
       "      <th></th>\n",
       "      <th>Indicator</th>\n",
       "      <th>Country</th>\n",
       "      <th>Date</th>\n",
       "      <th>Value</th>\n",
       "    </tr>\n",
       "  </thead>\n",
       "  <tbody>\n",
       "    <tr>\n",
       "      <th>17528</th>\n",
       "      <td>Cumulative number of confirmed Ebola cases</td>\n",
       "      <td>Guinea 2</td>\n",
       "      <td>2016-03-23</td>\n",
       "      <td>2.0</td>\n",
       "    </tr>\n",
       "    <tr>\n",
       "      <th>17529</th>\n",
       "      <td>Cumulative number of probable Ebola cases</td>\n",
       "      <td>Guinea 2</td>\n",
       "      <td>2016-03-23</td>\n",
       "      <td>3.0</td>\n",
       "    </tr>\n",
       "    <tr>\n",
       "      <th>17530</th>\n",
       "      <td>Cumulative number of suspected Ebola cases</td>\n",
       "      <td>Guinea 2</td>\n",
       "      <td>2016-03-23</td>\n",
       "      <td>0.0</td>\n",
       "    </tr>\n",
       "    <tr>\n",
       "      <th>17531</th>\n",
       "      <td>Cumulative number of confirmed, probable and s...</td>\n",
       "      <td>Guinea 2</td>\n",
       "      <td>2016-03-23</td>\n",
       "      <td>5.0</td>\n",
       "    </tr>\n",
       "    <tr>\n",
       "      <th>17532</th>\n",
       "      <td>Number of confirmed Ebola cases in the last 21...</td>\n",
       "      <td>Guinea 2</td>\n",
       "      <td>2016-03-23</td>\n",
       "      <td>2.0</td>\n",
       "    </tr>\n",
       "    <tr>\n",
       "      <th>17533</th>\n",
       "      <td>Number of probable Ebola cases in the last 21 ...</td>\n",
       "      <td>Guinea 2</td>\n",
       "      <td>2016-03-23</td>\n",
       "      <td>3.0</td>\n",
       "    </tr>\n",
       "    <tr>\n",
       "      <th>17534</th>\n",
       "      <td>Number of confirmed, probable and suspected Eb...</td>\n",
       "      <td>Guinea 2</td>\n",
       "      <td>2016-03-23</td>\n",
       "      <td>5.0</td>\n",
       "    </tr>\n",
       "    <tr>\n",
       "      <th>17535</th>\n",
       "      <td>Cumulative number of confirmed Ebola deaths</td>\n",
       "      <td>Guinea 2</td>\n",
       "      <td>2016-03-23</td>\n",
       "      <td>1.0</td>\n",
       "    </tr>\n",
       "    <tr>\n",
       "      <th>17536</th>\n",
       "      <td>Cumulative number of probable Ebola deaths</td>\n",
       "      <td>Guinea 2</td>\n",
       "      <td>2016-03-23</td>\n",
       "      <td>3.0</td>\n",
       "    </tr>\n",
       "    <tr>\n",
       "      <th>17537</th>\n",
       "      <td>Cumulative number of confirmed, probable and s...</td>\n",
       "      <td>Guinea 2</td>\n",
       "      <td>2016-03-23</td>\n",
       "      <td>4.0</td>\n",
       "    </tr>\n",
       "  </tbody>\n",
       "</table>\n",
       "</div>"
      ],
      "text/plain": [
       "                                               Indicator   Country  \\\n",
       "17528         Cumulative number of confirmed Ebola cases  Guinea 2   \n",
       "17529          Cumulative number of probable Ebola cases  Guinea 2   \n",
       "17530         Cumulative number of suspected Ebola cases  Guinea 2   \n",
       "17531  Cumulative number of confirmed, probable and s...  Guinea 2   \n",
       "17532  Number of confirmed Ebola cases in the last 21...  Guinea 2   \n",
       "17533  Number of probable Ebola cases in the last 21 ...  Guinea 2   \n",
       "17534  Number of confirmed, probable and suspected Eb...  Guinea 2   \n",
       "17535        Cumulative number of confirmed Ebola deaths  Guinea 2   \n",
       "17536         Cumulative number of probable Ebola deaths  Guinea 2   \n",
       "17537  Cumulative number of confirmed, probable and s...  Guinea 2   \n",
       "\n",
       "             Date  Value  \n",
       "17528  2016-03-23    2.0  \n",
       "17529  2016-03-23    3.0  \n",
       "17530  2016-03-23    0.0  \n",
       "17531  2016-03-23    5.0  \n",
       "17532  2016-03-23    2.0  \n",
       "17533  2016-03-23    3.0  \n",
       "17534  2016-03-23    5.0  \n",
       "17535  2016-03-23    1.0  \n",
       "17536  2016-03-23    3.0  \n",
       "17537  2016-03-23    4.0  "
      ]
     },
     "execution_count": 11,
     "metadata": {},
     "output_type": "execute_result"
    }
   ],
   "source": [
    "# Rows of country 'Guinea 2'\n",
    "maindf.loc[maindf[\"Country\"]==\"Guinea 2\"]"
   ]
  },
  {
   "cell_type": "markdown",
   "metadata": {},
   "source": [
    "### On inspection of the dates, we find that 'Guinea' and 'Guinea 2' have different records for the same date.\n",
    "Information available on the internet provides us with sufficient information to confirm that 'Guinea 2' refers to the country- Guinea Bissua.\n",
    "In order to make it clear, we change the name 'Guinea 2' to 'Guinea Bissua'"
   ]
  },
  {
   "cell_type": "code",
   "execution_count": 12,
   "metadata": {},
   "outputs": [],
   "source": [
    "# renaming 'Guinea 2' to 'Guinea Bissua'\n",
    "maindf.loc[maindf[\"Country\"]==\"Guinea 2\", \"Country\"] = \"Guinea Bissua\""
   ]
  },
  {
   "cell_type": "code",
   "execution_count": 13,
   "metadata": {},
   "outputs": [
    {
     "data": {
      "text/html": [
       "<div>\n",
       "<style scoped>\n",
       "    .dataframe tbody tr th:only-of-type {\n",
       "        vertical-align: middle;\n",
       "    }\n",
       "\n",
       "    .dataframe tbody tr th {\n",
       "        vertical-align: top;\n",
       "    }\n",
       "\n",
       "    .dataframe thead th {\n",
       "        text-align: right;\n",
       "    }\n",
       "</style>\n",
       "<table border=\"1\" class=\"dataframe\">\n",
       "  <thead>\n",
       "    <tr style=\"text-align: right;\">\n",
       "      <th></th>\n",
       "      <th>Indicator</th>\n",
       "      <th>Country</th>\n",
       "      <th>Date</th>\n",
       "      <th>Value</th>\n",
       "    </tr>\n",
       "  </thead>\n",
       "  <tbody>\n",
       "    <tr>\n",
       "      <th>17528</th>\n",
       "      <td>Cumulative number of confirmed Ebola cases</td>\n",
       "      <td>Guinea Bissua</td>\n",
       "      <td>2016-03-23</td>\n",
       "      <td>2.0</td>\n",
       "    </tr>\n",
       "    <tr>\n",
       "      <th>17529</th>\n",
       "      <td>Cumulative number of probable Ebola cases</td>\n",
       "      <td>Guinea Bissua</td>\n",
       "      <td>2016-03-23</td>\n",
       "      <td>3.0</td>\n",
       "    </tr>\n",
       "    <tr>\n",
       "      <th>17530</th>\n",
       "      <td>Cumulative number of suspected Ebola cases</td>\n",
       "      <td>Guinea Bissua</td>\n",
       "      <td>2016-03-23</td>\n",
       "      <td>0.0</td>\n",
       "    </tr>\n",
       "    <tr>\n",
       "      <th>17531</th>\n",
       "      <td>Cumulative number of confirmed, probable and s...</td>\n",
       "      <td>Guinea Bissua</td>\n",
       "      <td>2016-03-23</td>\n",
       "      <td>5.0</td>\n",
       "    </tr>\n",
       "    <tr>\n",
       "      <th>17532</th>\n",
       "      <td>Number of confirmed Ebola cases in the last 21...</td>\n",
       "      <td>Guinea Bissua</td>\n",
       "      <td>2016-03-23</td>\n",
       "      <td>2.0</td>\n",
       "    </tr>\n",
       "    <tr>\n",
       "      <th>17533</th>\n",
       "      <td>Number of probable Ebola cases in the last 21 ...</td>\n",
       "      <td>Guinea Bissua</td>\n",
       "      <td>2016-03-23</td>\n",
       "      <td>3.0</td>\n",
       "    </tr>\n",
       "    <tr>\n",
       "      <th>17534</th>\n",
       "      <td>Number of confirmed, probable and suspected Eb...</td>\n",
       "      <td>Guinea Bissua</td>\n",
       "      <td>2016-03-23</td>\n",
       "      <td>5.0</td>\n",
       "    </tr>\n",
       "    <tr>\n",
       "      <th>17535</th>\n",
       "      <td>Cumulative number of confirmed Ebola deaths</td>\n",
       "      <td>Guinea Bissua</td>\n",
       "      <td>2016-03-23</td>\n",
       "      <td>1.0</td>\n",
       "    </tr>\n",
       "    <tr>\n",
       "      <th>17536</th>\n",
       "      <td>Cumulative number of probable Ebola deaths</td>\n",
       "      <td>Guinea Bissua</td>\n",
       "      <td>2016-03-23</td>\n",
       "      <td>3.0</td>\n",
       "    </tr>\n",
       "    <tr>\n",
       "      <th>17537</th>\n",
       "      <td>Cumulative number of confirmed, probable and s...</td>\n",
       "      <td>Guinea Bissua</td>\n",
       "      <td>2016-03-23</td>\n",
       "      <td>4.0</td>\n",
       "    </tr>\n",
       "  </tbody>\n",
       "</table>\n",
       "</div>"
      ],
      "text/plain": [
       "                                               Indicator        Country  \\\n",
       "17528         Cumulative number of confirmed Ebola cases  Guinea Bissua   \n",
       "17529          Cumulative number of probable Ebola cases  Guinea Bissua   \n",
       "17530         Cumulative number of suspected Ebola cases  Guinea Bissua   \n",
       "17531  Cumulative number of confirmed, probable and s...  Guinea Bissua   \n",
       "17532  Number of confirmed Ebola cases in the last 21...  Guinea Bissua   \n",
       "17533  Number of probable Ebola cases in the last 21 ...  Guinea Bissua   \n",
       "17534  Number of confirmed, probable and suspected Eb...  Guinea Bissua   \n",
       "17535        Cumulative number of confirmed Ebola deaths  Guinea Bissua   \n",
       "17536         Cumulative number of probable Ebola deaths  Guinea Bissua   \n",
       "17537  Cumulative number of confirmed, probable and s...  Guinea Bissua   \n",
       "\n",
       "             Date  Value  \n",
       "17528  2016-03-23    2.0  \n",
       "17529  2016-03-23    3.0  \n",
       "17530  2016-03-23    0.0  \n",
       "17531  2016-03-23    5.0  \n",
       "17532  2016-03-23    2.0  \n",
       "17533  2016-03-23    3.0  \n",
       "17534  2016-03-23    5.0  \n",
       "17535  2016-03-23    1.0  \n",
       "17536  2016-03-23    3.0  \n",
       "17537  2016-03-23    4.0  "
      ]
     },
     "execution_count": 13,
     "metadata": {},
     "output_type": "execute_result"
    }
   ],
   "source": [
    "maindf.loc[maindf[\"Country\"]==\"Guinea Bissua\"]"
   ]
  },
  {
   "cell_type": "markdown",
   "metadata": {},
   "source": [
    "### Checking whether same 'Indicator' and 'Date' have different corresponding 'Value' for 'Liberia' and 'Liberia 2'"
   ]
  },
  {
   "cell_type": "code",
   "execution_count": 14,
   "metadata": {},
   "outputs": [
    {
     "data": {
      "text/html": [
       "<div>\n",
       "<style scoped>\n",
       "    .dataframe tbody tr th:only-of-type {\n",
       "        vertical-align: middle;\n",
       "    }\n",
       "\n",
       "    .dataframe tbody tr th {\n",
       "        vertical-align: top;\n",
       "    }\n",
       "\n",
       "    .dataframe thead th {\n",
       "        text-align: right;\n",
       "    }\n",
       "</style>\n",
       "<table border=\"1\" class=\"dataframe\">\n",
       "  <thead>\n",
       "    <tr style=\"text-align: right;\">\n",
       "      <th></th>\n",
       "      <th>Indicator</th>\n",
       "      <th>Country</th>\n",
       "      <th>Date</th>\n",
       "      <th>Value</th>\n",
       "    </tr>\n",
       "  </thead>\n",
       "  <tbody>\n",
       "    <tr>\n",
       "      <th>17290</th>\n",
       "      <td>Cumulative number of confirmed, probable and s...</td>\n",
       "      <td>Liberia</td>\n",
       "      <td>2015-12-22</td>\n",
       "      <td>10666.0</td>\n",
       "    </tr>\n",
       "  </tbody>\n",
       "</table>\n",
       "</div>"
      ],
      "text/plain": [
       "                                               Indicator  Country        Date  \\\n",
       "17290  Cumulative number of confirmed, probable and s...  Liberia  2015-12-22   \n",
       "\n",
       "         Value  \n",
       "17290  10666.0  "
      ]
     },
     "execution_count": 14,
     "metadata": {},
     "output_type": "execute_result"
    }
   ],
   "source": [
    "maindf.loc[(maindf[\"Country\"]==\"Liberia\") & \n",
    "           (maindf[\"Indicator\"]==\"Cumulative number of confirmed, probable and suspected Ebola cases\") & \n",
    "           (maindf[\"Date\"]==\"2015-12-22\")]"
   ]
  },
  {
   "cell_type": "code",
   "execution_count": 15,
   "metadata": {},
   "outputs": [
    {
     "data": {
      "text/html": [
       "<div>\n",
       "<style scoped>\n",
       "    .dataframe tbody tr th:only-of-type {\n",
       "        vertical-align: middle;\n",
       "    }\n",
       "\n",
       "    .dataframe tbody tr th {\n",
       "        vertical-align: top;\n",
       "    }\n",
       "\n",
       "    .dataframe thead th {\n",
       "        text-align: right;\n",
       "    }\n",
       "</style>\n",
       "<table border=\"1\" class=\"dataframe\">\n",
       "  <thead>\n",
       "    <tr style=\"text-align: right;\">\n",
       "      <th></th>\n",
       "      <th>Indicator</th>\n",
       "      <th>Country</th>\n",
       "      <th>Date</th>\n",
       "      <th>Value</th>\n",
       "    </tr>\n",
       "  </thead>\n",
       "  <tbody>\n",
       "    <tr>\n",
       "      <th>17304</th>\n",
       "      <td>Cumulative number of confirmed, probable and s...</td>\n",
       "      <td>Liberia 2</td>\n",
       "      <td>2015-12-22</td>\n",
       "      <td>9.0</td>\n",
       "    </tr>\n",
       "  </tbody>\n",
       "</table>\n",
       "</div>"
      ],
      "text/plain": [
       "                                               Indicator    Country  \\\n",
       "17304  Cumulative number of confirmed, probable and s...  Liberia 2   \n",
       "\n",
       "             Date  Value  \n",
       "17304  2015-12-22    9.0  "
      ]
     },
     "execution_count": 15,
     "metadata": {},
     "output_type": "execute_result"
    }
   ],
   "source": [
    "maindf.loc[(maindf[\"Country\"]==\"Liberia 2\") & \n",
    "           (maindf[\"Indicator\"]==\"Cumulative number of confirmed, probable and suspected Ebola cases\") & \n",
    "           (maindf[\"Date\"]==\"2015-12-22\")]"
   ]
  },
  {
   "cell_type": "markdown",
   "metadata": {},
   "source": [
    "### The two values are drastically different. \n",
    "There is no certainty what Liberia 2 refers too. \n",
    "Therefore, we drop the rows with 'Country' as 'Liberia 2'"
   ]
  },
  {
   "cell_type": "code",
   "execution_count": 16,
   "metadata": {},
   "outputs": [
    {
     "data": {
      "text/plain": [
       "536"
      ]
     },
     "execution_count": 16,
     "metadata": {},
     "output_type": "execute_result"
    }
   ],
   "source": [
    "# number of rows with 'Country' as 'Liberia 2'\n",
    "maindf.loc[maindf[\"Country\"]==\"Liberia 2\",\"Country\"].size"
   ]
  },
  {
   "cell_type": "code",
   "execution_count": 17,
   "metadata": {},
   "outputs": [],
   "source": [
    "# Dropping the rows with 'Country'='Liberia 2'\n",
    "maindf = maindf.drop(maindf[maindf[\"Country\"]==\"Liberia 2\"].index)"
   ]
  },
  {
   "cell_type": "code",
   "execution_count": 18,
   "metadata": {},
   "outputs": [
    {
     "name": "stdout",
     "output_type": "stream",
     "text": [
      "Indicator: 36\n",
      "Country: 11\n",
      "Date: 259\n",
      "Value: 1793\n"
     ]
    }
   ],
   "source": [
    "# number of unqiue values in each column\n",
    "# note: number of countries ha reduced to 11 from 12\n",
    "for col in maindf.columns:\n",
    "    print (col + \": {}\".format(maindf[col].unique().size))"
   ]
  },
  {
   "cell_type": "code",
   "execution_count": 19,
   "metadata": {},
   "outputs": [
    {
     "data": {
      "text/plain": [
       "(17049, 4)"
      ]
     },
     "execution_count": 19,
     "metadata": {},
     "output_type": "execute_result"
    }
   ],
   "source": [
    "# New dimensions of the dataframe\n",
    "maindf.shape"
   ]
  },
  {
   "cell_type": "markdown",
   "metadata": {},
   "source": [
    "# Calculating the percentages of Cumulative confirmed, probable and suspected cases till the last date of reporting (23-03-2016)"
   ]
  },
  {
   "cell_type": "code",
   "execution_count": 20,
   "metadata": {},
   "outputs": [
    {
     "data": {
      "text/html": [
       "<div>\n",
       "<style scoped>\n",
       "    .dataframe tbody tr th:only-of-type {\n",
       "        vertical-align: middle;\n",
       "    }\n",
       "\n",
       "    .dataframe tbody tr th {\n",
       "        vertical-align: top;\n",
       "    }\n",
       "\n",
       "    .dataframe thead th {\n",
       "        text-align: right;\n",
       "    }\n",
       "</style>\n",
       "<table border=\"1\" class=\"dataframe\">\n",
       "  <thead>\n",
       "    <tr style=\"text-align: right;\">\n",
       "      <th></th>\n",
       "      <th>Country</th>\n",
       "      <th>Value</th>\n",
       "    </tr>\n",
       "  </thead>\n",
       "  <tbody>\n",
       "    <tr>\n",
       "      <th>17517</th>\n",
       "      <td>Sierra Leone</td>\n",
       "      <td>14122.0</td>\n",
       "    </tr>\n",
       "    <tr>\n",
       "      <th>17512</th>\n",
       "      <td>Liberia</td>\n",
       "      <td>10666.0</td>\n",
       "    </tr>\n",
       "    <tr>\n",
       "      <th>17505</th>\n",
       "      <td>Guinea</td>\n",
       "      <td>3804.0</td>\n",
       "    </tr>\n",
       "    <tr>\n",
       "      <th>17556</th>\n",
       "      <td>Nigeria</td>\n",
       "      <td>20.0</td>\n",
       "    </tr>\n",
       "    <tr>\n",
       "      <th>17552</th>\n",
       "      <td>Mali</td>\n",
       "      <td>8.0</td>\n",
       "    </tr>\n",
       "    <tr>\n",
       "      <th>17531</th>\n",
       "      <td>Guinea Bissua</td>\n",
       "      <td>5.0</td>\n",
       "    </tr>\n",
       "    <tr>\n",
       "      <th>17568</th>\n",
       "      <td>United States of America</td>\n",
       "      <td>4.0</td>\n",
       "    </tr>\n",
       "    <tr>\n",
       "      <th>17542</th>\n",
       "      <td>Italy</td>\n",
       "      <td>1.0</td>\n",
       "    </tr>\n",
       "    <tr>\n",
       "      <th>17547</th>\n",
       "      <td>United Kingdom</td>\n",
       "      <td>1.0</td>\n",
       "    </tr>\n",
       "    <tr>\n",
       "      <th>17560</th>\n",
       "      <td>Senegal</td>\n",
       "      <td>1.0</td>\n",
       "    </tr>\n",
       "    <tr>\n",
       "      <th>17564</th>\n",
       "      <td>Spain</td>\n",
       "      <td>1.0</td>\n",
       "    </tr>\n",
       "  </tbody>\n",
       "</table>\n",
       "</div>"
      ],
      "text/plain": [
       "                        Country    Value\n",
       "17517              Sierra Leone  14122.0\n",
       "17512                   Liberia  10666.0\n",
       "17505                    Guinea   3804.0\n",
       "17556                   Nigeria     20.0\n",
       "17552                      Mali      8.0\n",
       "17531             Guinea Bissua      5.0\n",
       "17568  United States of America      4.0\n",
       "17542                     Italy      1.0\n",
       "17547            United Kingdom      1.0\n",
       "17560                   Senegal      1.0\n",
       "17564                     Spain      1.0"
      ]
     },
     "execution_count": 20,
     "metadata": {},
     "output_type": "execute_result"
    }
   ],
   "source": [
    "# Cumulative number of confirmed, probable and suspected Ebola cases till the last reported date of 23-03-2016 \n",
    "# Highest to lowest number of cases\n",
    "maindf.loc[(maindf[\"Indicator\"]==\"Cumulative number of confirmed, probable and suspected Ebola cases\") & \n",
    "           (maindf[\"Date\"]==\"2016-03-23\"), [\"Country\", \"Value\"]].sort_values(by=[\"Value\"], ascending=False)"
   ]
  },
  {
   "cell_type": "code",
   "execution_count": 21,
   "metadata": {},
   "outputs": [
    {
     "name": "stderr",
     "output_type": "stream",
     "text": [
      "C:\\Users\\arshi\\Anaconda3\\lib\\site-packages\\matplotlib\\axes\\_axes.py:521: UserWarning: You have mixed positional and keyword arguments, some input will be discarded.\n",
      "  warnings.warn(\"You have mixed positional and keyword \"\n"
     ]
    },
    {
     "data": {
      "text/plain": [
       "<matplotlib.legend.Legend at 0x2711a031a90>"
      ]
     },
     "execution_count": 21,
     "metadata": {},
     "output_type": "execute_result"
    },
    {
     "data": {
      "image/png": "[encoded data removed]",
      "text/plain": [
       "<matplotlib.figure.Figure at 0x27119f68668>"
      ]
     },
     "metadata": {},
     "output_type": "display_data"
    }
   ],
   "source": [
    "# country1 is a Python list containing the countries in the ascending order of \n",
    "# cumulative number of confirmed, probable and suspected Ebola cases\n",
    "country1 = maindf.loc[(maindf[\"Indicator\"]==\"Cumulative number of confirmed, probable and suspected Ebola cases\") & \n",
    "           (maindf[\"Date\"]==\"2016-03-23\"), [\"Country\", \"Value\"]].sort_values(by=[\"Value\"], ascending=False)[\"Country\"].tolist()\n",
    "\n",
    "# val is a Python list containing the cumulative number of confirmed, probable and suspected Ebola cases\n",
    "# for each country in the country1 list respectively\n",
    "val = pd.Series(maindf.loc[(maindf[\"Indicator\"]==\"Cumulative number of confirmed, probable and suspected Ebola cases\") & \n",
    "           (maindf[\"Date\"]==\"2016-03-23\"), [\"Value\"]].sort_values(by=[\"Value\"], ascending=False)[\"Value\"].tolist())\n",
    "\n",
    "# pie chart showing the proportion of cases reported in each country along with the respective percentage\n",
    "plt.pie(val, autopct=\"%1.1f%%\", startangle=90, shadow=True)\n",
    "plt.legend(country1, bbox_to_anchor=(1,1), labels=['%s, %1.3f%%' % (c, v) for c, v in zip(country1, ((val/val.sum())*100))])"
   ]
  },
  {
   "cell_type": "markdown",
   "metadata": {},
   "source": [
    "**Conclusion:** *Seirra Leone, Liberia and Guinea were locations of widespread outbreak with nearly half of the cases reported from Seirra Leone, followed by Liberia and Guinea, respectively. Limited local cases were reported from Nigeria, Mali and Guinea Bissua along with isolated cases from USA, Italy, UK, Senegal and Spain.*"
   ]
  },
  {
   "cell_type": "markdown",
   "metadata": {},
   "source": [
    "# Calculating the percentages of cumulative confirmed, probable and suspected deaths till the last date of reporting (23-03-2016)"
   ]
  },
  {
   "cell_type": "code",
   "execution_count": 22,
   "metadata": {},
   "outputs": [
    {
     "data": {
      "text/html": [
       "<div>\n",
       "<style scoped>\n",
       "    .dataframe tbody tr th:only-of-type {\n",
       "        vertical-align: middle;\n",
       "    }\n",
       "\n",
       "    .dataframe tbody tr th {\n",
       "        vertical-align: top;\n",
       "    }\n",
       "\n",
       "    .dataframe thead th {\n",
       "        text-align: right;\n",
       "    }\n",
       "</style>\n",
       "<table border=\"1\" class=\"dataframe\">\n",
       "  <thead>\n",
       "    <tr style=\"text-align: right;\">\n",
       "      <th></th>\n",
       "      <th>Country</th>\n",
       "      <th>Value</th>\n",
       "    </tr>\n",
       "  </thead>\n",
       "  <tbody>\n",
       "    <tr>\n",
       "      <th>17513</th>\n",
       "      <td>Liberia</td>\n",
       "      <td>4806.0</td>\n",
       "    </tr>\n",
       "    <tr>\n",
       "      <th>17521</th>\n",
       "      <td>Sierra Leone</td>\n",
       "      <td>3955.0</td>\n",
       "    </tr>\n",
       "    <tr>\n",
       "      <th>17508</th>\n",
       "      <td>Guinea</td>\n",
       "      <td>2536.0</td>\n",
       "    </tr>\n",
       "    <tr>\n",
       "      <th>17572</th>\n",
       "      <td>Nigeria</td>\n",
       "      <td>8.0</td>\n",
       "    </tr>\n",
       "    <tr>\n",
       "      <th>17551</th>\n",
       "      <td>Mali</td>\n",
       "      <td>6.0</td>\n",
       "    </tr>\n",
       "    <tr>\n",
       "      <th>17537</th>\n",
       "      <td>Guinea Bissua</td>\n",
       "      <td>4.0</td>\n",
       "    </tr>\n",
       "    <tr>\n",
       "      <th>17584</th>\n",
       "      <td>United States of America</td>\n",
       "      <td>1.0</td>\n",
       "    </tr>\n",
       "    <tr>\n",
       "      <th>17541</th>\n",
       "      <td>Italy</td>\n",
       "      <td>0.0</td>\n",
       "    </tr>\n",
       "    <tr>\n",
       "      <th>17546</th>\n",
       "      <td>United Kingdom</td>\n",
       "      <td>0.0</td>\n",
       "    </tr>\n",
       "    <tr>\n",
       "      <th>17576</th>\n",
       "      <td>Senegal</td>\n",
       "      <td>0.0</td>\n",
       "    </tr>\n",
       "    <tr>\n",
       "      <th>17580</th>\n",
       "      <td>Spain</td>\n",
       "      <td>0.0</td>\n",
       "    </tr>\n",
       "  </tbody>\n",
       "</table>\n",
       "</div>"
      ],
      "text/plain": [
       "                        Country   Value\n",
       "17513                   Liberia  4806.0\n",
       "17521              Sierra Leone  3955.0\n",
       "17508                    Guinea  2536.0\n",
       "17572                   Nigeria     8.0\n",
       "17551                      Mali     6.0\n",
       "17537             Guinea Bissua     4.0\n",
       "17584  United States of America     1.0\n",
       "17541                     Italy     0.0\n",
       "17546            United Kingdom     0.0\n",
       "17576                   Senegal     0.0\n",
       "17580                     Spain     0.0"
      ]
     },
     "execution_count": 22,
     "metadata": {},
     "output_type": "execute_result"
    }
   ],
   "source": [
    "# Cumulative number of confirmed, probable and suspected Ebola deaths till the last reported date of 23-03-2016 \n",
    "# Highest to lowest number of deaths\n",
    "maindf.loc[(maindf[\"Indicator\"]==\"Cumulative number of confirmed, probable and suspected Ebola deaths\") & \n",
    "           (maindf[\"Date\"]==\"2016-03-23\"), [\"Country\", \"Value\"]].sort_values(by=[\"Value\"], ascending=False)"
   ]
  },
  {
   "cell_type": "code",
   "execution_count": 23,
   "metadata": {},
   "outputs": [
    {
     "name": "stderr",
     "output_type": "stream",
     "text": [
      "C:\\Users\\arshi\\Anaconda3\\lib\\site-packages\\matplotlib\\axes\\_axes.py:521: UserWarning: You have mixed positional and keyword arguments, some input will be discarded.\n",
      "  warnings.warn(\"You have mixed positional and keyword \"\n"
     ]
    },
    {
     "data": {
      "text/plain": [
       "<matplotlib.legend.Legend at 0x27119f68710>"
      ]
     },
     "execution_count": 23,
     "metadata": {},
     "output_type": "execute_result"
    },
    {
     "data": {
      "image/png": "[encoded data removed]",
      "text/plain": [
       "<matplotlib.figure.Figure at 0x27119f684a8>"
      ]
     },
     "metadata": {},
     "output_type": "display_data"
    }
   ],
   "source": [
    "# country1 is a Python list containing the countries in the ascending order of \n",
    "# cumulative number of confirmed, probable and suspected Ebola deaths\n",
    "country1 = maindf.loc[(maindf[\"Indicator\"]==\"Cumulative number of confirmed, probable and suspected Ebola deaths\") & \n",
    "           (maindf[\"Date\"]==\"2016-03-23\") &\n",
    "           (maindf[\"Value\"]!=0),[\"Country\", \"Value\"]].sort_values(by=[\"Value\"], ascending=False)[\"Country\"].tolist()\n",
    "\n",
    "# val is a Python list containing the cumulative number of confirmed, probable and suspected Ebola deaths\n",
    "# for each country in the country1 list respectively\n",
    "val = pd.Series(maindf.loc[(maindf[\"Indicator\"]==\"Cumulative number of confirmed, probable and suspected Ebola deaths\") & \n",
    "           (maindf[\"Date\"]==\"2016-03-23\") &\n",
    "           (maindf[\"Value\"]!=0), [\"Value\"]].sort_values(by=[\"Value\"], ascending=False)[\"Value\"].tolist())\n",
    "\n",
    "# pie chart showing the proportion of deaths reported in each country along with the respective percentage\n",
    "plt.pie(val, autopct=\"%1.1f%%\", startangle=90, explode=(0.02,0.02,0.02,0.1,0.2,0.3,0.4), shadow=True)\n",
    "plt.legend(country1, bbox_to_anchor=(1,1), labels=['%s, %1.3f%%' % (c, v) for c, v in zip(country1, ((val/val.sum())*100))])"
   ]
  },
  {
   "cell_type": "markdown",
   "metadata": {},
   "source": [
    "**Conclusion:** *Although, half of the cases reported were from Seirra Leone, Liberia accounted for 42.5% of Ebola deaths followed by Seirra Leone and Guinea. Out of the 20 cases reported from Nigeria, 8 resulted in death. Isolated Ebola deaths were reported from Mali, Guinea Bissua and USA. Out of the isolated cases reported from UK, Italy, Senegal and Spain, none resulted in death.*"
   ]
  },
  {
   "cell_type": "markdown",
   "metadata": {},
   "source": [
    "# Trends in cumulative number of confirmed, probable and suspected Ebola cases"
   ]
  },
  {
   "cell_type": "code",
   "execution_count": 24,
   "metadata": {},
   "outputs": [
    {
     "data": {
      "text/plain": [
       "<matplotlib.legend.Legend at 0x2711a42eda0>"
      ]
     },
     "execution_count": 24,
     "metadata": {},
     "output_type": "execute_result"
    },
    {
     "data": {
      "image/png": "[encoded data removed]",
      "text/plain": [
       "<matplotlib.figure.Figure at 0x27119f405c0>"
      ]
     },
     "metadata": {},
     "output_type": "display_data"
    }
   ],
   "source": [
    "# Rising trend of cases reported in Seirra Leone, Liberia and Guinea from \n",
    "for country in maindf[\"Country\"].unique().tolist():\n",
    "    \n",
    "    date = maindf.loc[(maindf[\"Country\"]==country) & \n",
    "               (maindf[\"Indicator\"]==\"Cumulative number of confirmed, probable and suspected Ebola cases\"),\n",
    "                [\"Date\", \"Value\"]].sort_values(by=[\"Date\"])[\"Date\"].tolist()\n",
    "\n",
    "    cumvalue = maindf.loc[(maindf[\"Country\"]==country) & \n",
    "               (maindf[\"Indicator\"]==\"Cumulative number of confirmed, probable and suspected Ebola cases\"),\n",
    "                [\"Date\", \"Value\"]].sort_values(by=[\"Date\"])[\"Value\"].tolist()\n",
    "    plt.plot(date, cumvalue, label=country)\n",
    " \n",
    "plt.xlabel(\"Time Span: 2014-08-29 to 2016-03-23\")\n",
    "plt.ylabel(\"Cumulative number of deaths\")\n",
    "plt.legend(bbox_to_anchor=(1,1))"
   ]
  },
  {
   "cell_type": "markdown",
   "metadata": {},
   "source": [
    "**Conclusion:** *The number of cases reported increased at an alarming rate in Sierra Leone, Liberia and Guinea in the initial months starting from September 2014. From the slope, it can be inferred that after the initial period of the outbreak, in the first few months of 2015, fewer cases were reported. Due to poverty and inadequate healthcare facilities, it took months before the epidemic could be contained. Although cases reported began to halt for Guinea and Liberia in mid 2015, comparatively more number of cases were being reported from Seirra Leone.*"
   ]
  },
  {
   "cell_type": "markdown",
   "metadata": {},
   "source": [
    "# Trend in cumulative number of confirmed, probable and suspected Ebola deaths"
   ]
  },
  {
   "cell_type": "code",
   "execution_count": 25,
   "metadata": {},
   "outputs": [
    {
     "data": {
      "text/plain": [
       "<matplotlib.legend.Legend at 0x2711b7a4128>"
      ]
     },
     "execution_count": 25,
     "metadata": {},
     "output_type": "execute_result"
    },
    {
     "data": {
      "image/png": "[encoded data removed]",
      "text/plain": [
       "<matplotlib.figure.Figure at 0x2711b791ef0>"
      ]
     },
     "metadata": {},
     "output_type": "display_data"
    }
   ],
   "source": [
    "for country in maindf[\"Country\"].unique().tolist():\n",
    "    \n",
    "    date = maindf.loc[(maindf[\"Country\"]==country) & \n",
    "               (maindf[\"Indicator\"]==\"Cumulative number of confirmed, probable and suspected Ebola deaths\"),\n",
    "                [\"Date\", \"Value\"]].sort_values(by=[\"Date\"])[\"Date\"].tolist()\n",
    "\n",
    "    cumvalue = maindf.loc[(maindf[\"Country\"]==country) & \n",
    "               (maindf[\"Indicator\"]==\"Cumulative number of confirmed, probable and suspected Ebola deaths\"),\n",
    "                [\"Date\", \"Value\"]].sort_values(by=[\"Date\"])[\"Value\"].tolist()\n",
    "    plt.plot(date, cumvalue, label=country)\n",
    " \n",
    "plt.xlabel(\"Time Span: 2014 to 2016-03-23\")\n",
    "plt.ylabel(\"Cumulative number of cases\")\n",
    "plt.legend(bbox_to_anchor=(1,1))"
   ]
  },
  {
   "cell_type": "markdown",
   "metadata": {},
   "source": [
    "**Conclusion:** *Although more cases were reported from Seirra Leone, the death toll was higher in Liberia*"
   ]
  },
  {
   "cell_type": "markdown",
   "metadata": {},
   "source": [
    "# Case Fatality Rate (CFR) over the first two weeks of reporting in the severly affected countries\n",
    "In epidemiology, this term refers to the proportion of deaths within a designated population of \"cases\" (people with a medical condition), over the course of the disease. A CFR is conventionally expressed as a percentage and represents a measure of risk. "
   ]
  },
  {
   "cell_type": "code",
   "execution_count": 26,
   "metadata": {},
   "outputs": [
    {
     "data": {
      "text/html": [
       "<div>\n",
       "<style scoped>\n",
       "    .dataframe tbody tr th:only-of-type {\n",
       "        vertical-align: middle;\n",
       "    }\n",
       "\n",
       "    .dataframe tbody tr th {\n",
       "        vertical-align: top;\n",
       "    }\n",
       "\n",
       "    .dataframe thead th {\n",
       "        text-align: right;\n",
       "    }\n",
       "</style>\n",
       "<table border=\"1\" class=\"dataframe\">\n",
       "  <thead>\n",
       "    <tr style=\"text-align: right;\">\n",
       "      <th></th>\n",
       "      <th>Country</th>\n",
       "      <th>Date</th>\n",
       "      <th>Value</th>\n",
       "    </tr>\n",
       "  </thead>\n",
       "  <tbody>\n",
       "    <tr>\n",
       "      <th>5184</th>\n",
       "      <td>Guinea</td>\n",
       "      <td>2014-08-29</td>\n",
       "      <td>66.0</td>\n",
       "    </tr>\n",
       "    <tr>\n",
       "      <th>5188</th>\n",
       "      <td>Liberia</td>\n",
       "      <td>2014-08-29</td>\n",
       "      <td>50.0</td>\n",
       "    </tr>\n",
       "    <tr>\n",
       "      <th>5196</th>\n",
       "      <td>Nigeria</td>\n",
       "      <td>2014-08-29</td>\n",
       "      <td>37.0</td>\n",
       "    </tr>\n",
       "    <tr>\n",
       "      <th>5192</th>\n",
       "      <td>Sierra Leone</td>\n",
       "      <td>2014-08-29</td>\n",
       "      <td>41.0</td>\n",
       "    </tr>\n",
       "    <tr>\n",
       "      <th>5071</th>\n",
       "      <td>Guinea</td>\n",
       "      <td>2014-09-05</td>\n",
       "      <td>64.0</td>\n",
       "    </tr>\n",
       "    <tr>\n",
       "      <th>5075</th>\n",
       "      <td>Liberia</td>\n",
       "      <td>2014-09-05</td>\n",
       "      <td>58.0</td>\n",
       "    </tr>\n",
       "    <tr>\n",
       "      <th>5083</th>\n",
       "      <td>Nigeria</td>\n",
       "      <td>2014-09-05</td>\n",
       "      <td>36.0</td>\n",
       "    </tr>\n",
       "    <tr>\n",
       "      <th>5079</th>\n",
       "      <td>Sierra Leone</td>\n",
       "      <td>2014-09-05</td>\n",
       "      <td>39.0</td>\n",
       "    </tr>\n",
       "    <tr>\n",
       "      <th>4829</th>\n",
       "      <td>Guinea</td>\n",
       "      <td>2014-09-12</td>\n",
       "      <td>65.0</td>\n",
       "    </tr>\n",
       "    <tr>\n",
       "      <th>4833</th>\n",
       "      <td>Liberia</td>\n",
       "      <td>2014-09-12</td>\n",
       "      <td>55.0</td>\n",
       "    </tr>\n",
       "    <tr>\n",
       "      <th>4841</th>\n",
       "      <td>Nigeria</td>\n",
       "      <td>2014-09-12</td>\n",
       "      <td>38.0</td>\n",
       "    </tr>\n",
       "    <tr>\n",
       "      <th>4837</th>\n",
       "      <td>Sierra Leone</td>\n",
       "      <td>2014-09-12</td>\n",
       "      <td>37.0</td>\n",
       "    </tr>\n",
       "    <tr>\n",
       "      <th>4729</th>\n",
       "      <td>Guinea</td>\n",
       "      <td>2014-09-16</td>\n",
       "      <td>64.0</td>\n",
       "    </tr>\n",
       "    <tr>\n",
       "      <th>4733</th>\n",
       "      <td>Liberia</td>\n",
       "      <td>2014-09-16</td>\n",
       "      <td>54.0</td>\n",
       "    </tr>\n",
       "    <tr>\n",
       "      <th>4741</th>\n",
       "      <td>Nigeria</td>\n",
       "      <td>2014-09-16</td>\n",
       "      <td>38.0</td>\n",
       "    </tr>\n",
       "    <tr>\n",
       "      <th>4737</th>\n",
       "      <td>Sierra Leone</td>\n",
       "      <td>2014-09-16</td>\n",
       "      <td>35.0</td>\n",
       "    </tr>\n",
       "  </tbody>\n",
       "</table>\n",
       "</div>"
      ],
      "text/plain": [
       "           Country        Date  Value\n",
       "5184        Guinea  2014-08-29   66.0\n",
       "5188       Liberia  2014-08-29   50.0\n",
       "5196       Nigeria  2014-08-29   37.0\n",
       "5192  Sierra Leone  2014-08-29   41.0\n",
       "5071        Guinea  2014-09-05   64.0\n",
       "5075       Liberia  2014-09-05   58.0\n",
       "5083       Nigeria  2014-09-05   36.0\n",
       "5079  Sierra Leone  2014-09-05   39.0\n",
       "4829        Guinea  2014-09-12   65.0\n",
       "4833       Liberia  2014-09-12   55.0\n",
       "4841       Nigeria  2014-09-12   38.0\n",
       "4837  Sierra Leone  2014-09-12   37.0\n",
       "4729        Guinea  2014-09-16   64.0\n",
       "4733       Liberia  2014-09-16   54.0\n",
       "4741       Nigeria  2014-09-16   38.0\n",
       "4737  Sierra Leone  2014-09-16   35.0"
      ]
     },
     "execution_count": 26,
     "metadata": {},
     "output_type": "execute_result"
    }
   ],
   "source": [
    "maindf.loc[(maindf[\"Indicator\"]==\"Case fatality rate (CFR) of confirmed, probable and suspected Ebola cases\") &\n",
    "            (maindf[\"Value\"]!=0),\n",
    "           [\"Country\", \"Date\", \"Value\"]].sort_values(by=[\"Date\", \"Country\"])"
   ]
  },
  {
   "cell_type": "code",
   "execution_count": 29,
   "metadata": {},
   "outputs": [
    {
     "data": {
      "image/png": "[encoded data removed]",
      "text/plain": [
       "<matplotlib.figure.Figure at 0x2711b97ae80>"
      ]
     },
     "metadata": {},
     "output_type": "display_data"
    }
   ],
   "source": [
    "# List of the severly affected countries\n",
    "countries = maindf.loc[(maindf[\"Indicator\"]==\"Case fatality rate (CFR) of confirmed, probable and suspected Ebola cases\") &\n",
    "            (maindf[\"Value\"]!=0),\n",
    "            [\"Country\", \"Date\", \"Value\"]].sort_values(by=[\"Date\", \"Country\"])[\"Country\"].unique().tolist()\n",
    "\n",
    "fig = plt.figure()\n",
    "i=1\n",
    "\n",
    "# loop through all the countries in the list and add a sublot for each one\n",
    "for country in countries:\n",
    "    \n",
    "    val = maindf.loc[(maindf[\"Indicator\"]==\"Case fatality rate (CFR) of confirmed, probable and suspected Ebola cases\") &\n",
    "                     (maindf[\"Country\"]==country),\n",
    "                     [\"Date\", \"Value\"]].sort_values(by=[\"Date\"])[\"Value\"].tolist()\n",
    "\n",
    "    dates = maindf.loc[(maindf[\"Indicator\"]==\"Case fatality rate (CFR) of confirmed, probable and suspected Ebola cases\") &\n",
    "                     (maindf[\"Country\"]==country),\n",
    "                     [\"Date\", \"Value\"]].sort_values(by=[\"Date\"])[\"Date\"].tolist()\n",
    "    \n",
    "    ax = fig.add_subplot(len(countries)/2,len(countries)/2,i)\n",
    "    i=i+1\n",
    "    plt.xlabel(\"Dates of reporting ({})\".format(country))\n",
    "    plt.ylabel(\"Case Fatality Ratio (CFR)\")\n",
    "    ax.plot(dates, val, linewidth=3)\n",
    "    plt.tight_layout()\n",
    "    plt.rcParams[\"figure.figsize\"]=(10,10)\n"
   ]
  },
  {
   "cell_type": "code",
   "execution_count": 28,
   "metadata": {},
   "outputs": [
    {
     "data": {
      "image/png": "[encoded data removed]",
      "text/plain": [
       "<matplotlib.figure.Figure at 0x27119f409e8>"
      ]
     },
     "metadata": {},
     "output_type": "display_data"
    }
   ],
   "source": [
    "# Case Fatality ratio (CFR) represented on ths same plot to visualize the difference\n",
    "for country in countries:\n",
    "    \n",
    "    val = maindf.loc[(maindf[\"Indicator\"]==\"Case fatality rate (CFR) of confirmed, probable and suspected Ebola cases\") &\n",
    "                     (maindf[\"Country\"]==country),\n",
    "                     [\"Date\", \"Value\"]].sort_values(by=[\"Date\"])[\"Value\"].tolist()\n",
    "    \n",
    "    dates = maindf.loc[(maindf[\"Indicator\"]==\"Case fatality rate (CFR) of confirmed, probable and suspected Ebola cases\") &\n",
    "                       (maindf[\"Country\"]==country),\n",
    "                       [\"Date\", \"Value\"]].sort_values(by=[\"Date\"])[\"Date\"].tolist()\n",
    "    \n",
    "    plt.plot(dates, val, label=country, linewidth=2.5 )\n",
    "\n",
    "plt.xlabel(\"Date Reported\")\n",
    "plt.ylabel(\"Case Fatality Rate (CFR)\")\n",
    "plt.legend(bbox_to_anchor=(1,1))\n",
    "\n",
    "\n",
    "\n",
    "plt.yticks(np.arange(34, 70, 2))\n",
    "plt.rcParams[\"figure.figsize\"]=(8,8)"
   ]
  }
 ],
 "metadata": {
  "kernelspec": {
   "display_name": "Python [default]",
   "language": "python",
   "name": "python3"
  },
  "language_info": {
   "codemirror_mode": {
    "name": "ipython",
    "version": 3
   },
   "file_extension": ".py",
   "mimetype": "text/x-python",
   "name": "python",
   "nbconvert_exporter": "python",
   "pygments_lexer": "ipython3",
   "version": "3.6.3"
  }
 },
 "nbformat": 4,
 "nbformat_minor": 2
}
